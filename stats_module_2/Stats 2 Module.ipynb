{
 "cells": [
  {
   "cell_type": "markdown",
   "metadata": {},
   "source": [
    "# Statistics Module 2\n",
    "\n",
    "In this module will will explore non-linear least squares regression and goodness-of-fit analysis."
   ]
  },
  {
   "cell_type": "code",
   "execution_count": null,
   "metadata": {
    "ExecuteTime": {
     "end_time": "2022-03-15T00:16:00.727475Z",
     "start_time": "2022-03-15T00:15:59.489772Z"
    }
   },
   "outputs": [],
   "source": [
    "# %load_ext autoreload\n",
    "# %autoreload 2\n",
    "import numpy as np\n",
    "import matplotlib.pyplot as plt\n",
    "import pandas as pd\n",
    "import tests"
   ]
  },
  {
   "cell_type": "markdown",
   "metadata": {},
   "source": [
    "## Q1: black-body radiation\n",
    "\n",
    "Black-body radiation is the idealized emission spectrum of an object with thermal energy. In other words, it describes the color and intensity of light emitted by a hot object.\n",
    "\n",
    "The thin filament of an incandescent light bulb emit black-body radiation when we provide a current. The temperature of the filament ranges from 2700-3000 K (\"soft\"), 3500–4100 K (\"cool\"), to 5000-6000 K (\"daylight\"). The black-body spectrum is given by:\n",
    "\n",
    "$$B_\\lambda = \\frac{2hc^2}{\\lambda^5 \\left[\\exp{\\left(\\frac{hc}{\\lambda K_B T}\\right)} - 1\\right]}$$\n",
    " \n",
    "where $h$ is the Planck constant, $K_B$ is the Boltzmann constant, $\\lambda$ is the wavelength of light, and $T$ is the temperature in Kelvin. $B_\\lambda$ is the specific intensity: the power *per* area $\\times$ solid angle $\\times$ wavelength [W/m$^3$Sr]. In other words, $B_\\lambda$ is the specific flux (the \"power\" radiated) at a given wavelength of light.\n",
    "\n",
    "Suppose your company, ULAB Incandescent Industries LLC, has just developed a new incandescent bulb and you are tasked to characterize this creation. The company's staff scientist has already measured the black-body spectrum as a function of wavelength of the bulb. Your task is to analyze this data!"
   ]
  },
  {
   "cell_type": "markdown",
   "metadata": {},
   "source": [
    "### Q1a: the spectrum\n",
    "\n",
    "The data for the black-body spectrum is located at [https://www.ocf.berkeley.edu/~yizhu/bb.txt](https://www.ocf.berkeley.edu/~yizhu/bb.txt). Using Pandas, download this data and make a plot of specific intensity as a function of wavelength in nm. Make sure to label axis and attach an appropriate title.\n",
    "\n",
    "Hints:\n",
    "- ``pandas.read_csv`` can read data from internet sources, you don't have to download the file to your computer!\n",
    "- Pay close attention to units!"
   ]
  },
  {
   "cell_type": "code",
   "execution_count": null,
   "metadata": {
    "ExecuteTime": {
     "end_time": "2022-03-15T00:16:01.794305Z",
     "start_time": "2022-03-15T00:16:01.081978Z"
    }
   },
   "outputs": [],
   "source": [
    "data = ..."
   ]
  },
  {
   "cell_type": "markdown",
   "metadata": {},
   "source": [
    "### Q1b: the black-body model\n",
    "\n",
    "In order to the fit our data to the black-body spectrum, we will use ``scipy.optimize.curve_fit``. First, we must define in python the function we want to fit our data to.\n",
    "\n",
    "Implement the function ``bb``, which takes in the parameters ``lam``, ``T``, ``a``, and ``b``. ``lam`` is the independent variable and the remaining parameters are the fit parameters. Read the docstring below to understand what each parameter means (take note of the units!). \n",
    "\n",
    "Make sure your function is compatible with numpy arrays! Use the model,\n",
    "\n",
    "$$B_\\lambda = a\\left[\\frac{2hc^2}{\\lambda^5 \\left[\\exp{\\left(\\frac{hc}{\\lambda K_B T}\\right)} - 1\\right]}\\right] + b$$"
   ]
  },
  {
   "cell_type": "code",
   "execution_count": null,
   "metadata": {
    "ExecuteTime": {
     "end_time": "2022-03-15T00:16:02.426711Z",
     "start_time": "2022-03-15T00:16:02.411355Z"
    }
   },
   "outputs": [],
   "source": [
    "h = 6.626e-34 #Js\n",
    "c = 3e8 #m/s\n",
    "kb = 1.38e-23 #J/K\n",
    "\n",
    "def bb(lam, T, a, b):\n",
    "    '''\n",
    "    Black-body specture B_lambda\n",
    "\n",
    "    Paramters:\n",
    "        lam: wavelength in meters\n",
    "        T: temperature in kelvin\n",
    "        a: scaling factor (dimensionless)\n",
    "        b: offset (dimensionless)\n",
    "    '''\n",
    "    # TODO"
   ]
  },
  {
   "cell_type": "code",
   "execution_count": null,
   "metadata": {
    "ExecuteTime": {
     "end_time": "2022-03-15T00:16:02.898537Z",
     "start_time": "2022-03-15T00:16:02.866297Z"
    }
   },
   "outputs": [],
   "source": [
    "tests.run('test_1b', bb)"
   ]
  },
  {
   "cell_type": "markdown",
   "metadata": {},
   "source": [
    "### Q1c: curve fitting\n",
    "\n",
    "Using ``scipy.optimize.curve_fit``, determine the optimal least-square regression of the black-body spectrum. What is your best guess for the temperature of the filament ``T_fit``? Read the documentation [Here](https://docs.scipy.org/doc/scipy/reference/generated/scipy.optimize.curve_fit.html).\n",
    "\n",
    "**Hint 1**:\n",
    "\n",
    "- `` f:`` the fitting function. This is the function that produces the model.\n",
    "\n",
    "- ``xdata:`` the independent data. \n",
    "\n",
    "- ``ydata:`` the dependent data. ``curve_fit`` assumes f(xdata, \\*params) = ydata + errors. (*params just means any number of paramters.)\n",
    "\n",
    "- ``p0:`` (optional) initial guesses for parameters.\n",
    "\n",
    "What does curve_fit return? Check the documentation! You **have** to consult the documentation in order to know how to use the returned arrays and extract the best fit parameters and errors associated.\n",
    "\n",
    "**Hint 2**: if you're encountering strange overflow errors or a terrible fit, you should give the curve fitting function some initial parameters. Read up on the ``p0`` parameter. The value of ``p0`` isn't too important, so ~1000 K will do! What would be reasonable guesses for ``a`` and ``b``?"
   ]
  },
  {
   "cell_type": "code",
   "execution_count": null,
   "metadata": {
    "ExecuteTime": {
     "end_time": "2022-03-15T00:16:05.974990Z",
     "start_time": "2022-03-15T00:16:03.722885Z"
    }
   },
   "outputs": [],
   "source": [
    "from scipy.optimize import ...\n",
    "\n",
    "T_fit = ..."
   ]
  },
  {
   "cell_type": "code",
   "execution_count": null,
   "metadata": {
    "ExecuteTime": {
     "end_time": "2022-03-15T00:16:06.046733Z",
     "start_time": "2022-03-15T00:16:05.985427Z"
    }
   },
   "outputs": [],
   "source": [
    "tests.run('test_1c', T_fit)"
   ]
  },
  {
   "cell_type": "markdown",
   "metadata": {},
   "source": [
    "### Q1d: blub type\n",
    "\n",
    "What type of bulb does this temperature correspond to: soft, cool, or daylight? Type your answer here."
   ]
  },
  {
   "cell_type": "markdown",
   "metadata": {},
   "source": [
    "### Q1e: plotting\n",
    "\n",
    "Replicate your plot from Q1a here. Then, on the same figure, plot the best fit curve you found above. **Be sure to label the axes, label each plot, and show a legend.**"
   ]
  },
  {
   "cell_type": "code",
   "execution_count": null,
   "metadata": {
    "ExecuteTime": {
     "end_time": "2022-03-15T00:16:06.466903Z",
     "start_time": "2022-03-15T00:16:06.051215Z"
    }
   },
   "outputs": [],
   "source": [
    "# TODO"
   ]
  },
  {
   "cell_type": "markdown",
   "metadata": {},
   "source": [
    "### Q1f: peak wavelength\n",
    "\n",
    "Estimate the peak wavelength ``peak`` of your best fit curve (not the original data!) **in nm**. What color does this wavelength correspond? Type your answer here.\n",
    "\n",
    "Hint: numpy has a function that can find the index of a maximum element."
   ]
  },
  {
   "cell_type": "code",
   "execution_count": null,
   "metadata": {
    "ExecuteTime": {
     "end_time": "2022-03-15T00:16:06.846715Z",
     "start_time": "2022-03-15T00:16:06.837629Z"
    }
   },
   "outputs": [],
   "source": [
    "peak = ..."
   ]
  },
  {
   "cell_type": "code",
   "execution_count": null,
   "metadata": {
    "ExecuteTime": {
     "end_time": "2022-03-15T00:16:07.395560Z",
     "start_time": "2022-03-15T00:16:07.385040Z"
    }
   },
   "outputs": [],
   "source": [
    "tests.run('test_1f', peak)"
   ]
  },
  {
   "cell_type": "markdown",
   "metadata": {},
   "source": [
    "### Q1g: a green sun?\n",
    "\n",
    "You should have found in Q1f that the color of the sun peaks at the color green. Why doesn't the sun look green to us? In fact, when we look at the night sky, why don't we see any green stars? Type your best guess below."
   ]
  },
  {
   "cell_type": "markdown",
   "metadata": {},
   "source": [
    "## Submission\n",
    "\n",
    "Check to make sure that you have answered all questions. Run all the cells so that all output is visible. Finally, export this notebook as a PDF (File/Download As/PDF via LaTeX (.pdf)) and submit to bCourses.\n",
    "\n",
    "Created and edited by the ULAB staff. Last updated: March 2021."
   ]
  }
 ],
 "metadata": {
  "kernelspec": {
   "display_name": "Python 3",
   "language": "python",
   "name": "python3"
  },
  "language_info": {
   "codemirror_mode": {
    "name": "ipython",
    "version": 3
   },
   "file_extension": ".py",
   "mimetype": "text/x-python",
   "name": "python",
   "nbconvert_exporter": "python",
   "pygments_lexer": "ipython3",
   "version": "3.7.4"
  },
  "toc": {
   "base_numbering": 1,
   "nav_menu": {},
   "number_sections": false,
   "sideBar": true,
   "skip_h1_title": false,
   "title_cell": "Table of Contents",
   "title_sidebar": "Contents",
   "toc_cell": false,
   "toc_position": {},
   "toc_section_display": true,
   "toc_window_display": true
  }
 },
 "nbformat": 4,
 "nbformat_minor": 5
}
