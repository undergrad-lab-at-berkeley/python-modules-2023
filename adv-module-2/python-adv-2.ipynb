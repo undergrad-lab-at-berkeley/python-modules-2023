{
 "cells": [
  {
   "cell_type": "markdown",
   "metadata": {},
   "source": [
    "# Advanced Python Module 2: More numpy and pendulum simulation\n",
    "\n",
    "Copyright &copy; 2021, Undergraduate Lab at Berkeley\n",
    "\n",
    "In this module, we'll review a bit more numpy, and finish the core part of the pendulum simulation!"
   ]
  },
  {
   "cell_type": "code",
   "execution_count": null,
   "metadata": {
    "ExecuteTime": {
     "end_time": "2021-10-02T22:39:33.680698Z",
     "start_time": "2021-10-02T22:39:32.720526Z"
    }
   },
   "outputs": [],
   "source": [
    "%load_ext autoreload\n",
    "%autoreload 2\n",
    "import numpy as np\n",
    "import imageio\n",
    "import matplotlib.pyplot as plt\n",
    "import tqdm\n",
    "import tests"
   ]
  },
  {
   "cell_type": "markdown",
   "metadata": {},
   "source": [
    "## Practice with multidimensional arrays\n",
    "\n",
    "Handling arrays with several dimensions can be one of the most unintuitive aspects of working with numpy, so let's run through a quick example. One of the common applications of multidimensional arrays is to represent color images. The data underlying a color image is a number of 2D arrays, each one representing the image along a specific \"channel\" that has the component of just one base color.\n",
    "\n",
    "By running the code below, you can get a picture of Chelsea the cat:"
   ]
  },
  {
   "cell_type": "code",
   "execution_count": null,
   "metadata": {
    "ExecuteTime": {
     "end_time": "2021-10-02T22:39:34.533635Z",
     "start_time": "2021-10-02T22:39:33.683493Z"
    }
   },
   "outputs": [],
   "source": [
    "chelsea = imageio.imread(\"imageio:chelsea.png\")\n",
    "plt.imshow(chelsea)\n",
    "_ = plt.axis(\"off\")\n",
    "plt.show()"
   ]
  },
  {
   "cell_type": "markdown",
   "metadata": {},
   "source": [
    "This picture is actually just a 3D array, with one dimension for width, one for height, and one for the color channels."
   ]
  },
  {
   "cell_type": "code",
   "execution_count": null,
   "metadata": {
    "ExecuteTime": {
     "end_time": "2021-10-02T22:39:34.603746Z",
     "start_time": "2021-10-02T22:39:34.538593Z"
    }
   },
   "outputs": [],
   "source": [
    "chelsea"
   ]
  },
  {
   "cell_type": "code",
   "execution_count": null,
   "metadata": {
    "ExecuteTime": {
     "end_time": "2021-10-02T22:39:34.738463Z",
     "start_time": "2021-10-02T22:39:34.619360Z"
    }
   },
   "outputs": [],
   "source": [
    "chelsea.shape"
   ]
  },
  {
   "cell_type": "markdown",
   "metadata": {},
   "source": [
    "By isolating just one of the three channels along axis 2 (remember, these are zero-indexed, so axis 2 is what we would call the third dimension) we can get just the red, blue, or green component. To do this, we take \"full slices\" along the first and second axes, by putting in just a colon to represent choosing everything along that dimension. For a simpler example:"
   ]
  },
  {
   "cell_type": "code",
   "execution_count": null,
   "metadata": {
    "ExecuteTime": {
     "end_time": "2021-10-02T22:39:34.814734Z",
     "start_time": "2021-10-02T22:39:34.764683Z"
    }
   },
   "outputs": [],
   "source": [
    "a = np.arange(12).reshape((3,4))\n",
    "a"
   ]
  },
  {
   "cell_type": "code",
   "execution_count": null,
   "metadata": {
    "ExecuteTime": {
     "end_time": "2021-10-02T22:39:34.860840Z",
     "start_time": "2021-10-02T22:39:34.820868Z"
    }
   },
   "outputs": [],
   "source": [
    "a[1,2] # choose row 1, column 2"
   ]
  },
  {
   "cell_type": "code",
   "execution_count": null,
   "metadata": {
    "ExecuteTime": {
     "end_time": "2021-10-02T22:39:34.930162Z",
     "start_time": "2021-10-02T22:39:34.867947Z"
    }
   },
   "outputs": [],
   "source": [
    "a[1,:] # choose row 1, every column"
   ]
  },
  {
   "cell_type": "code",
   "execution_count": null,
   "metadata": {
    "ExecuteTime": {
     "end_time": "2021-10-02T22:39:34.997268Z",
     "start_time": "2021-10-02T22:39:34.946945Z"
    }
   },
   "outputs": [],
   "source": [
    "a[:,2] # choose every row, column 2"
   ]
  },
  {
   "cell_type": "markdown",
   "metadata": {},
   "source": [
    "Applying this to Chelsea, we get this:"
   ]
  },
  {
   "cell_type": "code",
   "execution_count": null,
   "metadata": {
    "ExecuteTime": {
     "end_time": "2021-10-02T22:39:35.457700Z",
     "start_time": "2021-10-02T22:39:35.009236Z"
    }
   },
   "outputs": [],
   "source": [
    "colors = ['red', 'green', 'blue']\n",
    "fig, axs = plt.subplots(1,3, figsize=(10,10))\n",
    "for i in range(3):\n",
    "    axs[i].imshow(chelsea[:,:,i], cmap='gray')\n",
    "    axs[i].set_title(colors[i])\n",
    "    axs[i].axis(\"off\")\n",
    "plt.show()"
   ]
  },
  {
   "cell_type": "markdown",
   "metadata": {},
   "source": [
    "If we want to see these in their channel colors instead of in grayscale, we can set the other two channels to 0 and show the resulting full image:"
   ]
  },
  {
   "cell_type": "code",
   "execution_count": null,
   "metadata": {
    "ExecuteTime": {
     "end_time": "2021-10-02T22:39:35.899795Z",
     "start_time": "2021-10-02T22:39:35.464613Z"
    }
   },
   "outputs": [],
   "source": [
    "colors = ['red', 'green', 'blue']\n",
    "fig, axs = plt.subplots(1,3, figsize=(10,10))\n",
    "for i in range(3):\n",
    "    chelsea_copy = np.zeros_like(chelsea)\n",
    "    chelsea_copy[:,:,i] = chelsea[:,:,i]\n",
    "    axs[i].imshow(chelsea_copy)\n",
    "    axs[i].set_title(colors[i])\n",
    "    axs[i].axis(\"off\")\n",
    "plt.show()"
   ]
  },
  {
   "cell_type": "markdown",
   "metadata": {},
   "source": [
    "# Question 1 (10 pts)\n",
    "\n",
    "You might notice that each of the grayscale images above looks subtly different - it seems like picking just one channel isn't representative of what a black-and-white image of Chelsea *should* look like, and instead we need a combination of them. This is actually a standard formula that we can find in the [imageio documentation](https://readthedocs.org/projects/imageio/downloads/pdf/latest/). \n",
    "\n",
    "An important skill in programming is reading through documents like this to find the one formula or fact that you need! For this problem, go to page 50 of the imageio documentation and find the combination of R, G, and B that we should use, then implement it in the function below."
   ]
  },
  {
   "cell_type": "code",
   "execution_count": null,
   "metadata": {
    "ExecuteTime": {
     "end_time": "2021-10-02T22:40:16.214113Z",
     "start_time": "2021-10-02T22:40:16.145104Z"
    }
   },
   "outputs": [],
   "source": [
    "def rgb_to_grayscale(img):\n",
    "    \"\"\"\n",
    "    Converts an RGB image to grayscale according to the imageio formula.\n",
    "    \n",
    "    Parameters\n",
    "    ----------\n",
    "    img : np.ndarray, (M, N, 3)\n",
    "    The image, with three channels for R, G, B along axis 2.\n",
    "    \n",
    "    Returns\n",
    "    -------\n",
    "    gray : np.ndarray, (M, N)\n",
    "    The grayscaled image.\n",
    "    \"\"\"\n",
    "    \n",
    "    #TODO"
   ]
  },
  {
   "cell_type": "markdown",
   "metadata": {},
   "source": [
    "Now, if we look at the color and grayscaled pictures side by side, they should look a lot more similar than the single-channel versions!"
   ]
  },
  {
   "cell_type": "code",
   "execution_count": null,
   "metadata": {
    "ExecuteTime": {
     "end_time": "2021-10-02T22:39:36.496792Z",
     "start_time": "2021-10-02T22:39:35.958725Z"
    }
   },
   "outputs": [],
   "source": [
    "fig, axs = plt.subplots(1,2, figsize=(10,10))\n",
    "axs[0].imshow(chelsea)\n",
    "_ = axs[0].axis(\"off\")\n",
    "axs[1].imshow(rgb_to_grayscale(chelsea), cmap='gray')\n",
    "_ = axs[1].axis(\"off\")\n",
    "plt.show()"
   ]
  },
  {
   "cell_type": "markdown",
   "metadata": {},
   "source": [
    "# Question 2 (20 pts)\n",
    "\n",
    "With a bit more practice both with numpy arrays and with learning documentation, let's come back to the pendulum problem! In the last module, we computed the acceleration for a single pendulum. This time, we'll do the same for the double pendulum. The physics of this is a lot more complicated, so we've provided a [reference](http://www.phys.lsu.edu/faculty/gonzalez/Teaching/Phys7221/DoublePendulum.pdf) that does the full derivation.\n",
    "\n",
    "Understanding the full derivation isn't important (and extracting only the important parts of a paper without necessarily knowing everything else that's going on is a useful research skill!) The only part you should need is the two equations right at the end, numbered (69) and (70), and it'll take some algebraic manipulation to rewrite them in the form you'll need for this function.\n",
    "\n",
    "*Hint*: it might help to define some intermediate variables for quantities like $\\sin(\\theta_2 - \\theta_1)$ that come up a few times."
   ]
  },
  {
   "cell_type": "code",
   "execution_count": null,
   "metadata": {
    "ExecuteTime": {
     "end_time": "2021-10-02T22:39:36.585228Z",
     "start_time": "2021-10-02T22:39:36.515567Z"
    }
   },
   "outputs": [],
   "source": [
    "def get_accel_2(angles, vels, lengths, masses):\n",
    "    '''\n",
    "    Finds the accelerations of each mass as a function of the system state, for the two-pendulum case.\n",
    "\n",
    "    Arguments\n",
    "    ---------\n",
    "    angles : np.ndarray, (2,)\n",
    "    The angle of each pendulum arm with respect to the normal.\n",
    "\n",
    "    lengths : np.ndarray, (2,)\n",
    "    The length of each pendulum arm.\n",
    "\n",
    "    masses : np.ndarray, (2,)\n",
    "    The mass of each pendulum weight.\n",
    "\n",
    "    vels : np.ndarray, (2,)\n",
    "    The theta-dots of each pendulum arm.\n",
    "\n",
    "    Returns\n",
    "    -------\n",
    "    accels : np.ndarray, (2,)\n",
    "    The net acceleration, in the theta direction, on each mass.\n",
    "    '''\n",
    "    pi = np.pi\n",
    "    g = 9.81\n",
    "    #TODO"
   ]
  },
  {
   "cell_type": "code",
   "execution_count": null,
   "metadata": {
    "ExecuteTime": {
     "end_time": "2021-10-02T22:39:36.648953Z",
     "start_time": "2021-10-02T22:39:36.592957Z"
    }
   },
   "outputs": [],
   "source": [
    "tests.run('test_accel2', get_accel_2)"
   ]
  },
  {
   "cell_type": "markdown",
   "metadata": {},
   "source": [
    "# Question 3 (10 pts)\n",
    "\n",
    "Now that we know how to get accelerations, let's use them to move our simulation forward in time! This works simply by the usual kinematic update rules:\n",
    "\n",
    "\\begin{align*}\n",
    "    v(t + \\Delta t) &= v(t) + a(t) \\Delta t\\\\\n",
    "    x(t + \\Delta t) &= x(t) + v(t) \\Delta t\n",
    "\\end{align*}\n",
    "\n",
    "Fill in the function to do this below.\n",
    "\n",
    "*Hint*: remember angles can only be in the range $[0, 2\\pi)$, and think about which common arithmetic operator will help us ensure we bring our angle back into this range.\n",
    "\n",
    "*Numerical note*: if you've had any experience with numerical solutions to differential equations, you might know that the method we're using here (forward Euler integration) accumulates error over time, and that there are other methods to get more accurate solutions to differential equations like this one. However, we'll stick with this method just because it's closest to the physics, and the small timestep means that even with this flaw, our simulation will still let us get some good results."
   ]
  },
  {
   "cell_type": "code",
   "execution_count": null,
   "metadata": {
    "ExecuteTime": {
     "end_time": "2021-10-02T22:39:36.736784Z",
     "start_time": "2021-10-02T22:39:36.663798Z"
    }
   },
   "outputs": [],
   "source": [
    "def step(angles, vels, accels, dt=1e-3):\n",
    "    '''\n",
    "    Advances the system through a timestep of 'dt' seconds:\n",
    "    takes in the state at some time t and the change, returns the state at time t + dt.\n",
    "\n",
    "    Arguments\n",
    "    ---------\n",
    "    angles, vels, accels : np.ndarray, (N,)\n",
    "    The angles, velocities, accelerations of the pendulums.\n",
    "\n",
    "    dt : scalar, optional\n",
    "    The timestep variable.\n",
    "\n",
    "    Returns\n",
    "    -------\n",
    "    angles, vels : np.ndarray, (N,)\n",
    "    The new state of the system.\n",
    "    '''\n",
    "    #TODO"
   ]
  },
  {
   "cell_type": "code",
   "execution_count": null,
   "metadata": {
    "ExecuteTime": {
     "end_time": "2021-10-02T22:39:36.846303Z",
     "start_time": "2021-10-02T22:39:36.772487Z"
    }
   },
   "outputs": [],
   "source": [
    "tests.run('test_step', step)"
   ]
  },
  {
   "cell_type": "markdown",
   "metadata": {},
   "source": [
    "We're ready to finish up the simulation! We'll need the two functions you wrote for the last module, `positions` and `get_accel_1`, so copy and paste them into the Python cells below.\n",
    "\n",
    "Copying and pasting code like this seems tedious and inefficient, and can lead to errors once we scale up to bigger programs. It isn't a big deal with two functions, but once you've written dozens or hundreds, this approach becomes a lot more impractical. In the next module, we'll reformat the work you've done so far into a better workflow for big projects."
   ]
  },
  {
   "cell_type": "code",
   "execution_count": null,
   "metadata": {
    "ExecuteTime": {
     "end_time": "2021-10-02T22:41:41.103884Z",
     "start_time": "2021-10-02T22:41:41.059369Z"
    }
   },
   "outputs": [],
   "source": [
    "# your positions function here\n",
    "\n",
    "# your get_accel_1 function here"
   ]
  },
  {
   "cell_type": "markdown",
   "metadata": {},
   "source": [
    "# Question 4 (10 pts)\n",
    "\n",
    "We'll need one more function to tie together everything we've written so far! In this function, we'll start with an initial position, and push our simulation through many timesteps, by repeatedly finding the acceleration values and updating the velocity and position based on that. Fill in the cell below to do this!"
   ]
  },
  {
   "cell_type": "code",
   "execution_count": null,
   "metadata": {
    "ExecuteTime": {
     "end_time": "2021-10-02T22:41:54.823344Z",
     "start_time": "2021-10-02T22:41:54.767945Z"
    }
   },
   "outputs": [],
   "source": [
    "def simulate(angles_init, lengths, masses, dt=1e-3, num_steps=2000):\n",
    "    '''\n",
    "    Runs the simulation for 'num_steps' steps of time 'dt'.\n",
    "\n",
    "    Arguments\n",
    "    ---------\n",
    "    angles_init : np.ndarray, (N,)\n",
    "    The initial angles of the N pendulum components.\n",
    "\n",
    "    lengths : np.ndarray, (N,)\n",
    "    The length of each pendulum arm.\n",
    "\n",
    "    masses : np.ndarray, (N,)\n",
    "    The mass of each pendulum weight.\n",
    "\n",
    "    dt : scalar, optional\n",
    "    The timestep variable.\n",
    "\n",
    "    num_steps : int, optional\n",
    "    The number of timesteps over which to run the simulation.\n",
    "\n",
    "    Returns\n",
    "    -------\n",
    "    time : np.ndarray, (num_steps)\n",
    "    A time axis to accompany the positions.\n",
    "\n",
    "    pos : np.ndarray, (num_steps, N, 2)\n",
    "    The (x, y) position of each pendulum at each timestep.\n",
    "    '''\n",
    "    #TODO"
   ]
  },
  {
   "cell_type": "code",
   "execution_count": null,
   "metadata": {
    "ExecuteTime": {
     "end_time": "2021-10-02T22:39:37.110279Z",
     "start_time": "2021-10-02T22:39:37.019071Z"
    }
   },
   "outputs": [],
   "source": [
    "tests.run('test_simulate', simulate)"
   ]
  },
  {
   "cell_type": "markdown",
   "metadata": {},
   "source": [
    "Now that we're done, let's take a look at our results! Both cells below should run in about 5 seconds."
   ]
  },
  {
   "cell_type": "code",
   "execution_count": null,
   "metadata": {
    "ExecuteTime": {
     "end_time": "2021-10-02T22:39:40.201744Z",
     "start_time": "2021-10-02T22:39:37.120662Z"
    }
   },
   "outputs": [],
   "source": [
    "# one-pendulum case\n",
    "N = 1\n",
    "angles_init = np.pi / 180 * np.array([85])\n",
    "lengths = np.array([1])\n",
    "masses = np.array([0.1])\n",
    "\n",
    "time, pos = simulate(angles_init, lengths, masses, num_steps=50000)\n",
    "for i in range(N):\n",
    "    for j in range(2):\n",
    "        plt.plot(time, pos[:, i, j], label=\"{0}, {1}\".format(i,j))\n",
    "\n",
    "plt.legend()\n",
    "plt.xlabel(\"Time (s)\")\n",
    "plt.ylabel(\"Position of (pendulum, coordinate)\")\n",
    "plt.show()"
   ]
  },
  {
   "cell_type": "code",
   "execution_count": null,
   "metadata": {
    "ExecuteTime": {
     "end_time": "2021-10-02T22:39:47.240457Z",
     "start_time": "2021-10-02T22:39:40.214552Z"
    }
   },
   "outputs": [],
   "source": [
    "# two-pendulum case\n",
    "N = 2\n",
    "angles_init = np.pi / 180 * np.array([105, -45])\n",
    "lengths = np.array([1, 2])\n",
    "masses = np.array([0.1, 0.5])\n",
    "\n",
    "\n",
    "time, pos = simulate(angles_init, lengths, masses, num_steps=50000)\n",
    "for i in range(N):\n",
    "    for j in range(2):\n",
    "        plt.plot(time, pos[:, i, j], label=\"{0}, {1}\".format(i,j))\n",
    "\n",
    "plt.legend()\n",
    "plt.xlabel(\"Time (s)\")\n",
    "plt.ylabel(\"Position of (pendulum, coordinate)\")\n",
    "fig = plt.gcf()\n",
    "fig.set_size_inches(9, 6)\n",
    "plt.show()"
   ]
  },
  {
   "cell_type": "markdown",
   "metadata": {},
   "source": [
    "Even if these look reasonable (some sort of oscillation that's roughly correlated), it's not that easy to understand what's physically happening yet. Ideally, we want to see how the pendulum is actually moving in space. In the next module, we'll explore some plotting and animation tools to help us do this, as well as shifting our simulation over to `.py` files so that it's easier to maintain!"
   ]
  },
  {
   "cell_type": "markdown",
   "metadata": {},
   "source": [
    "## Conclusion\n",
    "\n",
    "In this module, we\n",
    "\n",
    "- explored handling multidimensional arrays\n",
    "- learned about how to read documentation and papers for relevant facts\n",
    "- wrote the core of our pendulum simulation\n",
    "- started to see some pendulum simulation results!"
   ]
  }
 ],
 "metadata": {
  "kernelspec": {
   "display_name": "Python 3",
   "language": "python",
   "name": "python3"
  },
  "language_info": {
   "codemirror_mode": {
    "name": "ipython",
    "version": 3
   },
   "file_extension": ".py",
   "mimetype": "text/x-python",
   "name": "python",
   "nbconvert_exporter": "python",
   "pygments_lexer": "ipython3",
   "version": "3.7.4"
  }
 },
 "nbformat": 4,
 "nbformat_minor": 5
}
