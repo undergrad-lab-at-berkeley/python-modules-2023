{
 "cells": [
  {
   "cell_type": "markdown",
   "metadata": {},
   "source": [
    "# ULAB Physics & Astronomy: Python Module III"
   ]
  },
  {
   "cell_type": "code",
   "execution_count": null,
   "metadata": {
    "ExecuteTime": {
     "end_time": "2021-07-17T20:20:33.634520Z",
     "start_time": "2021-07-17T20:20:33.570406Z"
    }
   },
   "outputs": [],
   "source": [
    "import tests\n",
    "import math"
   ]
  },
  {
   "cell_type": "markdown",
   "metadata": {},
   "source": [
    "## Conditionals\n",
    "\n",
    "##### An informal introduction\n",
    "When we write code, we want to be able to <b>control</b> the flow of our program. What does this mean? It means, we want our program to make decisions based on some conditions. You can of this as standing at a crossroads. You are standing at a crossroad that leads to 3 different places: School, home and the park. If you wanted to head to the park, you would look at the sign and decide to take the path that leads to the park. We do this very easily in our brain, but the computer takes a methodic approach. It uses <b>conditional expressions</b> to make its decision.\n",
    "\n",
    "##### Conditional expressions\n",
    "A <b>conditional expression</b> is an expression that evaluates to a `boolean` value: <code>True</code> or <code>False</code>. These expressions consist of operators such as `not`, `and`, `or`, `>`, `<`, `==`. We can construction intricate expressions with these operations and often use parentheses to improve clarity. Python's order of operations follow the same rules as mathematics (read more [here](https://docs.python.org/3/reference/expressions.html#operator-precedence))."
   ]
  },
  {
   "cell_type": "markdown",
   "metadata": {},
   "source": [
    "Look at the examples below. Run the cells and check your predictions! Make sure you keep track of variable names, add and delete cells to test different things as you wish!"
   ]
  },
  {
   "cell_type": "markdown",
   "metadata": {},
   "source": [
    "#### Inequalities"
   ]
  },
  {
   "cell_type": "markdown",
   "metadata": {},
   "source": [
    "First let understand = vs ==. These signs work very differently and its important to know when to use which. \n",
    "\n",
    "a = 2 </b> assigns the variable a to 2. </b> = is used for assignment.\n",
    "\n",
    "a == 2 checks whether a </b> is equal to 2. == is used to confirm equality."
   ]
  },
  {
   "cell_type": "code",
   "execution_count": null,
   "metadata": {},
   "outputs": [],
   "source": [
    "a = 2\n",
    "a"
   ]
  },
  {
   "cell_type": "code",
   "execution_count": null,
   "metadata": {},
   "outputs": [],
   "source": [
    "a == 2"
   ]
  },
  {
   "cell_type": "code",
   "execution_count": null,
   "metadata": {},
   "outputs": [],
   "source": [
    "a == 4"
   ]
  },
  {
   "cell_type": "markdown",
   "metadata": {},
   "source": [
    "Below are a few examples of how we can assign variables to (in)equalities."
   ]
  },
  {
   "cell_type": "code",
   "execution_count": null,
   "metadata": {},
   "outputs": [],
   "source": [
    "var1 = (5 >= 12)\n",
    "print(var1)\n",
    "\n",
    "var2 = 6 < 4\n",
    "print(var2)\n",
    "\n",
    "var3 = 4 == 4\n",
    "print(var3)"
   ]
  },
  {
   "cell_type": "markdown",
   "metadata": {},
   "source": [
    "#### And / Or"
   ]
  },
  {
   "cell_type": "code",
   "execution_count": null,
   "metadata": {
    "ExecuteTime": {
     "end_time": "2021-07-17T20:20:34.716213Z",
     "start_time": "2021-07-17T20:20:34.682635Z"
    }
   },
   "outputs": [],
   "source": [
    "\n",
    "and_operator = True and False\n",
    "print(and_operator)\n",
    "\n",
    "or_operator = True or False\n",
    "print(or_operator)\n",
    "\n",
    "#does order matter?\n",
    "or_and = True or False and True\n",
    "print(or_and)\n",
    "\n",
    "and_or = True and False or True\n",
    "print(and_or)\n",
    "\n",
    "x = (5 > 12) or (24 < 20) or (100 == 25 * 4)\n",
    "print(x)"
   ]
  },
  {
   "cell_type": "markdown",
   "metadata": {},
   "source": [
    "Suppose you want your program to behave differently depending on the value of a variable. With what we know so far, this is not possible, because our program runs sequentially and will eventually evaluate all of the lines. \n",
    "\n",
    "Here's where a <b>control structure</b> like a <i>conditional</i> comes in handy. Let's examine the following structure:\n",
    "```python\n",
    "if [conditional expression]:\n",
    "    [First block]\n",
    "elif [conditional expression]:\n",
    "    [Another block] \n",
    "elif [conditional expression]:\n",
    "    [Another block] \n",
    "else: \n",
    "    [Final block] # you may only have 1 else statement \n",
    "        \n",
    "#end\n",
    "```\n",
    "\n",
    "<br>**Starting at the top:**<br>\n",
    "1. `if` the first `[conditional expression]` is `True`, then the `[First block]` is run. After the `[First block]` is evaluated, the program ignores the remainder of the if-elif-else block and resumes at the `#end`. This is known as short-circuiting.<br><br>\n",
    "\n",
    "2. `if` the first `[conditional expression]` is `False`, then the `[First block]` is skipped and the program resumes after the block. In this case, after the first block, we encounter an `elif` (**short for \"else if\"**).<br><br>\n",
    "\n",
    "3. Like before, if the `elif` condition is `True` then the associated block is run and the control structure short circuits. If the `elif` condition is `False`, the associated code block is ignored.<br><br>\n",
    "\n",
    "4. You can optionally close an if-elif-else block with an `else` that always evaluates to `True`. Thus, the `[Final else block]` is always run unless a previous condition is `True` and the conditional short-circuits.\n",
    "\n",
    "\n",
    "Note that the difference between `if` and `elif` is that `if` statements are always evaluated while `elif` statements are only evaluated if the previous conditions are `False`. "
   ]
  },
  {
   "cell_type": "code",
   "execution_count": null,
   "metadata": {
    "ExecuteTime": {
     "end_time": "2021-07-17T20:20:35.278941Z",
     "start_time": "2021-07-17T20:20:35.247793Z"
    }
   },
   "outputs": [],
   "source": [
    "if(True):\n",
    "    print('First block runs.')\n",
    "elif(True):\n",
    "    print('Second block runs.')"
   ]
  },
  {
   "cell_type": "code",
   "execution_count": null,
   "metadata": {
    "ExecuteTime": {
     "end_time": "2021-07-17T20:20:35.583227Z",
     "start_time": "2021-07-17T20:20:35.553873Z"
    }
   },
   "outputs": [],
   "source": [
    "if(True):\n",
    "    print('First block runs.')\n",
    "if(True):\n",
    "    print('Second block runs.')"
   ]
  },
  {
   "cell_type": "markdown",
   "metadata": {},
   "source": [
    "## Functions\n",
    "Just like a mathematical function, functions in Python take a series of inputs (called arguments) and returns an output. In order to use a function, we must first define the function.\n",
    "<br>\n",
    "```python\n",
    "    def function_name(arg1, arg2, etc.):\n",
    "        [code to manipulate inputs]\n",
    "        return [output]\n",
    "```\n",
    "<br>\n",
    "Defining a function does not execute the code within the function. Instead, we must \"call\" the function and \"pass\" in the required arguments with the following syntax:\n",
    "\n",
    "```python  \n",
    "    function_name(input1, input2)\n",
    "```\n",
    "We can store the output of function,\n",
    "\n",
    "```python\n",
    "    output = function_with_output(input1, input2)\n",
    "```"
   ]
  },
  {
   "cell_type": "markdown",
   "metadata": {},
   "source": [
    "Python has quite a few built-in functions. `print()` is one we're already familiar with! Let's examine some more functions below: some are built-in, and some are written out by hand. Run the cell to see their outputs!"
   ]
  },
  {
   "cell_type": "code",
   "execution_count": null,
   "metadata": {
    "ExecuteTime": {
     "end_time": "2021-07-17T20:20:36.619159Z",
     "start_time": "2021-07-17T20:20:36.586175Z"
    }
   },
   "outputs": [],
   "source": [
    "# built-in: abs(x) returns the absolute value of x\n",
    "n = abs(-15)\n",
    "\n",
    "# built-in: len() returns the length of a string, list, tuple, etc.\n",
    "group18count = len([\"Radon\",\"Xenon\",\"Helium\",\"Argon\",\"Krypton\",\"Oganesson\",\"Neon\"])\n",
    "\n",
    "\n",
    "# user-defined: returns the magnitude of some 3D vector\n",
    "def magnitude(v_x, v_y, v_z):\n",
    "    return (v_x**2 + v_y**2 + v_z**2)**(1/2)\n",
    "\n",
    "# user-defined: returns whether a number x is odd or not\n",
    "def isOdd(x):\n",
    "    if x % 2 != 0:\n",
    "        return True\n",
    "    else:\n",
    "        return False\n",
    "\n",
    "    \n",
    "print(f'The absolute value of -15 is {n}')\n",
    "print(f'The number of elements in group 18 is {group18count}')\n",
    "print(f'The magnitude of the vector (4,2,3) is {magnitude(4,2,3):.3f}')\n",
    "print(f'Is the number 16 odd? {isOdd(16)}')"
   ]
  },
  {
   "cell_type": "markdown",
   "metadata": {},
   "source": [
    "## Return vs Print Statements\n",
    "Every function has a return statement if it wants to output something. But what if it has a print statement? Recall that a print statement is a non-pure function which means it has no<br>\n",
    "```python\n",
    "    def function_name(arg1, arg2, etc.):\n",
    "        [code to manipulate inputs]\n",
    "        return [output]\n",
    "```\n",
    "<br>\n",
    "Defining a function does not execute the code within the function. Instead, we must \"call\" the function and \"pass\" in the required arguments with the following syntax:\n",
    "\n",
    "```python  \n",
    "    function_name(input1, input2)\n",
    "```\n",
    "We can store the output of function,\n",
    "\n",
    "```python\n",
    "    output = function_with_output(input1, input2)\n",
    "```"
   ]
  },
  {
   "cell_type": "markdown",
   "metadata": {},
   "source": [
    "## Question 0: AQI (15 pts)\n",
    "\n",
    "The air quality index (AQI) is a dimensionless quantitiy used to communicate to the public about air quality. An AQI between 0 and 150 is considered acceptable, an AQI greater than 150 is considered unhealthy, and an AQI above 300 is considered hazardous. \n",
    "\n",
    "You are tasked to write a function to explain the air quality. The function has one argument, `aqi` and **returns** the quality of the air and how close the AQI is to the next highest category as a **string**.\n",
    "\n",
    "```python\n",
    "'''\n",
    ">>> aqi(50)\n",
    "\"The air quality is acceptable and 100 points from being unhealthy.\"\n",
    ">>> aqi(250)\n",
    "\"The air quality is unhealthy and 50 points from being hazardous.\"\n",
    ">>> aqi(300)\n",
    "\"The air quality is hazardous.\"\n",
    "'''\n",
    "```"
   ]
  },
  {
   "cell_type": "code",
   "execution_count": null,
   "metadata": {
    "ExecuteTime": {
     "end_time": "2021-07-17T20:20:37.476785Z",
     "start_time": "2021-07-17T20:20:37.451303Z"
    }
   },
   "outputs": [],
   "source": [
    "# think about what your conditional expressions should be!\n",
    "# how can you make use of the aqi parameter to write the \n",
    "# conditional expression and the number of points from being unhealthy?\n",
    "def aqi_verbose(aqi):\n",
    "    if ...:\n",
    "        return f'The air quality is acceptable and {...} points from being unhealthy.' #fill the ellipse with the correct value.\n",
    "    elif ...:\n",
    "        return f'The air quality is unhealthy and {...} points from being hazardous.'#fill the ellipse with the correct value.\n",
    "    ...\n",
    "        return 'The air quality is hazardous.'"
   ]
  },
  {
   "cell_type": "code",
   "execution_count": null,
   "metadata": {
    "ExecuteTime": {
     "end_time": "2021-07-17T20:20:37.852195Z",
     "start_time": "2021-07-17T20:20:37.806964Z"
    }
   },
   "outputs": [],
   "source": [
    "tests.run('test_0', aqi_verbose)"
   ]
  },
  {
   "cell_type": "markdown",
   "metadata": {},
   "source": [
    "## Loops\n",
    "Loops are another way to manipulate the behavior of your program. Instead of running code from top-to-bottom, loops allow us to repeat specific sections of code. There are two basic types of loops: `while` and `for`.\n",
    "\n",
    "**```while``` loop**: repeats a block of code *while* a given condition is true. Every time the program makes a pass through the loop, the condition is checked. If the condition is/becomes false, the loop is exited without executing the while block.\n",
    "```python\n",
    "while [conditional expression]:\n",
    "    [block of statements to be repeated]\n",
    "```\n",
    "\n",
    "**```for``` loop**: iterates through a list, tuple, or iterable and executes the code in the indented block each time.\n",
    "\n",
    "```python \n",
    "for [loop variable] in [sequence]:\n",
    "    [block of statements]\n",
    "```\n",
    "\n",
    "For example,\n",
    "```python\n",
    "for i in range(3):\n",
    "    print(str(i) + \" cats are cute!\")\n",
    "```\n",
    "\n",
    "Output:\n",
    "```python\n",
    "0 cats are cute!\n",
    "1 cats are cute!\n",
    "2 cats are cute!\n",
    "```"
   ]
  },
  {
   "cell_type": "markdown",
   "metadata": {},
   "source": [
    "## Question 1 (10 pts)\n",
    "\n",
    "Write a function that **returns** the average of a list of integers. You may assume that `lst` contains only integers. "
   ]
  },
  {
   "cell_type": "code",
   "execution_count": null,
   "metadata": {
    "ExecuteTime": {
     "end_time": "2021-07-17T20:20:41.662711Z",
     "start_time": "2021-07-17T20:20:41.635423Z"
    }
   },
   "outputs": [],
   "source": [
    "\"\"\"\n",
    "def average(myList):\n",
    "    ...\n",
    "    return ...\n",
    "    \n",
    "print(average([1,4,5,5,10,11]))\n",
    ">>> 6.0\n",
    "print(average([1,2]))\n",
    ">>> 1.5\n",
    "\"\"\"\n",
    "\n",
    "def average(lst):\n",
    "    ..."
   ]
  },
  {
   "cell_type": "code",
   "execution_count": null,
   "metadata": {
    "ExecuteTime": {
     "end_time": "2021-07-17T20:20:41.830172Z",
     "start_time": "2021-07-17T20:20:41.777786Z"
    },
    "scrolled": true
   },
   "outputs": [],
   "source": [
    "tests.run('test_2', average)"
   ]
  },
  {
   "cell_type": "markdown",
   "metadata": {},
   "source": [
    "## Question 2 (10 pts)\n"
   ]
  },
  {
   "cell_type": "markdown",
   "metadata": {},
   "source": [
    "Write a function `reverse` which swaps elements in a list `orig_list` such that `orig_list` is reversed. You should only require a for loop and some helper variables. Your function need not (and should not!) return anything because any change to the list that you make in the function will be reflected in all variables that reference the list.<br><br>\n",
    "Hint: `len()` returns the length of a string, list, tuple, etc."
   ]
  },
  {
   "cell_type": "code",
   "execution_count": null,
   "metadata": {
    "ExecuteTime": {
     "end_time": "2021-07-17T20:20:40.605867Z",
     "start_time": "2021-07-17T20:20:40.574116Z"
    }
   },
   "outputs": [],
   "source": [
    "\"\"\"\n",
    "def reverse(orig_list):\n",
    "    ...\n",
    "    \n",
    "reverse([1,2,3,4,5])\n",
    ">>> [5,4,3,2,1]\n",
    "\n",
    "reverse([9])\n",
    ">>> [9]\n",
    "\"\"\"\n",
    "\n",
    "def reverse(orig_list):\n",
    "    ...\n",
    "    \n",
    "        \n",
    "lst = [1, 2, 3, 4, 5]\n",
    "reverse(lst)\n",
    "print(lst)"
   ]
  },
  {
   "cell_type": "code",
   "execution_count": null,
   "metadata": {
    "ExecuteTime": {
     "end_time": "2021-07-17T20:20:40.763432Z",
     "start_time": "2021-07-17T20:20:40.730686Z"
    }
   },
   "outputs": [],
   "source": [
    "tests.run('test_1', reverse)"
   ]
  },
  {
   "cell_type": "markdown",
   "metadata": {},
   "source": [
    "## Question 3 (10 pts)\n",
    "Write a function that determines if an positive integer `x` is prime. Recall that a prime number is a natural number that is greater 1 and that can not be represented as the product of two smaller natural numbers. For example, 5 is prime because it can only be represented by the product $1\\times 5$, but 5 is not a natural number less than 5.\n",
    "\n",
    "You may assume that ```x``` is a positive integer greater than 1.\n",
    "\n",
    "Hint: what is the least number of operations you need to perform in order to determine if an integer is prime?"
   ]
  },
  {
   "cell_type": "code",
   "execution_count": null,
   "metadata": {
    "ExecuteTime": {
     "end_time": "2021-07-17T20:20:42.112815Z",
     "start_time": "2021-07-17T20:20:42.061470Z"
    }
   },
   "outputs": [],
   "source": [
    "\"\"\"\n",
    "def is_prime(x):\n",
    "    ...\n",
    "is_prime(10)\n",
    ">>> False\n",
    "\"\"\"\n",
    "\n",
    "\n",
    "def is_prime(x):    \n",
    "    ...\n",
    "    return ..."
   ]
  },
  {
   "cell_type": "code",
   "execution_count": null,
   "metadata": {
    "ExecuteTime": {
     "end_time": "2021-07-17T20:20:42.255944Z",
     "start_time": "2021-07-17T20:20:42.212913Z"
    }
   },
   "outputs": [],
   "source": [
    "tests.run('test_3', is_prime)"
   ]
  },
  {
   "cell_type": "markdown",
   "metadata": {},
   "source": [
    "## Errors\n",
    "(Inspired by <a href = \"https://www2.cs.arizona.edu/people/mccann/errors-python\">University of Arizona: Errors in Python</a>.)\n",
    "\n",
    "By now, you've probably run into at least one Python error. It's like learning to ride a bike... you can't say you've properly done it until you've fallen off and skinned your knee!\n",
    "\n",
    "Luckily, Python is great with being specific with what caused your program to error, often narrowing the issue down to a specific line when things went wrong (called a <i>traceback</i>), but a major step to becoming a successful coder is learning to read error messages and understand what they mean.\n",
    "\n",
    "Here are 5 common error messages, what they mean, and how to diagnose the root problem:\n",
    "\n",
    "1) <b>SyntaxError</b>: invalid syntax. You've messed up the \"grammar\" of a Python program! Common causes include:\n",
    "- forgetting the parentheses in a call expression\n",
    "- forgetting the colon at the end of a conditional <code>if</code>, <code>elif</code>, etc.\n",
    "\n",
    "\n",
    "2) <b>IndentationError</b>: expected an indented block. In Python, indentation is particularly important because it can change the meaning of a program. Whenever you have a block of code that falls under a statement, it must be consistently indented (usually 2 / 4 spaces, or a tab), and deviations will result in this error. Common causes include:\n",
    "- forgetting to indent a block of statements inside <code>if</code>, <code>for</code>, etc. properly\n",
    "- forgetting to indent the code block inside a user-defined function\n",
    "\n",
    "\n",
    "3) <b>IndentationError</b>: unexpected indent. As mentioned above, consistent indentation is imperative! If you indent a line inside a block by 3 spaces and the following line by 5, you'll get this error. Common causes include:\n",
    "- forgetting to indent a block of statements inside <code>if</code>, <code>for</code>, etc. properly\n",
    "- forgetting to indent the code block inside a user-defined function\n",
    "\n",
    "\n",
    "4) <b>NameError</b>: global name '[some_variable_name]' is not defined. Python has built-in functions, which means that it automatically knows what <code>print</code> means. It doesn't know what \"hello\" means though, and will be confused by a statement that includes a previously unknown name. Common causes include:\n",
    "- not assigning a value to a variable before using it in a statement\n",
    "- misspelling a built-in function name e.g. <code>pront</code> instead of <code>print</code>\n",
    "\n",
    "\n",
    "5) <b>TypeError</b>: Can't convert [some_data_type] object to [some_other_data_type] implicitly. When you're trying to perform an unsupported operation, usually on items of different data types, Python reacts with this error e.g. \"5\" + 5 which makes no sense unless both objects are of the same type. Common causes include:\n",
    "- combining a number and a string\n",
    "- trying to add an element to list using a + sign e.g. [4, 5, 6] + 4 (concatenation requires both elements involved in the operation to be the same type)"
   ]
  },
  {
   "cell_type": "markdown",
   "metadata": {},
   "source": [
    "## Question 4 (5 pts)\n",
    "Write a block of code that causes a `NameError`. Can you write a block of code that results in more than 1 error? Why or why not?"
   ]
  },
  {
   "cell_type": "code",
   "execution_count": null,
   "metadata": {
    "ExecuteTime": {
     "end_time": "2021-07-17T20:20:42.669300Z",
     "start_time": "2021-07-17T20:20:42.620094Z"
    }
   },
   "outputs": [],
   "source": [
    "print(foo)"
   ]
  },
  {
   "cell_type": "markdown",
   "metadata": {},
   "source": [
    "## Commenting\n",
    "As you're working through your projects, it's important to add <i>documentation</i> to your code, especially if you're relying on long blocks of data analysis. There's a high chance that when you come back to enumerate your analysis steps for your final paper / presentation / poster, you won't remember the exact purpose of line 42.\n",
    "\n",
    "What most programmers do in case of this is add <i>comments</i>. Comments are lines in the code that the computer doesn't read / execute (so Python syntax rules don't apply), but that humans do read! Comments usually include information about what a certain function does or why a particular block of statements was executed. There's no overarching rule for what a comment should look like, but in general they should be informative and concise; they should be readable for someone who hasn't seen your code before.\n",
    "\n",
    "There are 2 types of comments in Python—single line and multiline (only used at the start/end of files, generally).\n",
    "\n",
    "The syntax for a single line comment is <code>&#x23; [insert comment here]</code>. For a multiline comment it is <code>\"\"\" [insert multiline comment here] \"\"\"</code>. Here are some examples of comments:\n",
    "<br>\n",
    "<code>&#x23; adds up the distances and outputs average distance</code>\n",
    "<br><br>\n",
    "<code>\"\"\"\n",
    "this file includes functions that manipulate quaternions so that they can be output in ECEF format and written\n",
    "to the planetary orientation file\n",
    "\"\"\"</code>\n",
    "\n",
    "## Additional Resources\n",
    "\n",
    "As you go about learning more about the Python language and CS fundamentals you will often run into questions? Aside from the ULAB staff, here are 2 resources that for the most part compose the Bible of Python programmers and can provide a lot of insight:\n",
    "\n",
    "1) <a href = \"https://docs.python.org/3/\">The official Python language documentation</a>! This is not very accessible for a beginning programmer, so you can also try the <a href = \"https://docs.python.org/3/tutorial/\">Python tutorial</a>.<br>\n",
    "2) <a href = \"https://stackoverflow.com\">StackOverflow</a>. Your question is almost certainly not unique, and if you search it on the StackOverflow database, you'll probably get a good explanation from those active on the forum. (Eventually, you can give back to the community by answering questions yourself!) Note: Be sure to search by language."
   ]
  },
  {
   "cell_type": "markdown",
   "metadata": {},
   "source": [
    "## Submission\n",
    "\n",
    "Check to make sure that you have answered all questions. Run all the cells so that all output is visible. Finally, export this notebook as a PDF (File/Download As/PDF via LaTeX (.pdf)) and submit to bCourses."
   ]
  },
  {
   "cell_type": "markdown",
   "metadata": {},
   "source": [
    "<b>References:</b> Based off of work inspired by <i>Computational and Inferential Thinking</i> and the Data 8 course material: Professors Ani Adhikari, John DeNero, and the Data 8 staff. Edited and complied by the ULAB staff. \n",
    "\n",
    "Last Updated: June 2021"
   ]
  }
 ],
 "metadata": {
  "kernelspec": {
   "display_name": "Python 3",
   "language": "python",
   "name": "python3"
  },
  "language_info": {
   "codemirror_mode": {
    "name": "ipython",
    "version": 3
   },
   "file_extension": ".py",
   "mimetype": "text/x-python",
   "name": "python",
   "nbconvert_exporter": "python",
   "pygments_lexer": "ipython3",
   "version": "3.8.8"
  }
 },
 "nbformat": 4,
 "nbformat_minor": 2
}
