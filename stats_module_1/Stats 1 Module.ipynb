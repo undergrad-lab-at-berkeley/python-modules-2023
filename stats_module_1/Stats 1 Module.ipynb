{
 "cells": [
  {
   "cell_type": "markdown",
   "id": "667207f7",
   "metadata": {},
   "source": [
    "# Stats Module 1: Basics of Distributions"
   ]
  },
  {
   "cell_type": "code",
   "execution_count": null,
   "id": "3c1d2022",
   "metadata": {
    "ExecuteTime": {
     "end_time": "2022-03-08T02:44:36.331565Z",
     "start_time": "2022-03-08T02:44:33.241921Z"
    }
   },
   "outputs": [],
   "source": [
    "# %load_ext autoreload\n",
    "# %autoreload 2\n",
    "import tests\n",
    "import numpy as np\n",
    "import pandas as pd\n",
    "import matplotlib.pyplot as plt\n",
    "from scipy.stats import poisson"
   ]
  },
  {
   "cell_type": "markdown",
   "id": "d53f2547",
   "metadata": {},
   "source": [
    "## Q1: This is how your grades are calculated.\n",
    "\n",
    "Assume that a study measures the exam scores of 500 randomly selected people in Berkeley. The results of the survey are stored in ``scores.csv``.\n",
    "\n",
    "### Q1a: reading in data\n",
    "Using Pandas, read in the data as a DataFrame. Then, select the ``Scores`` column and convert that column to a numpy array."
   ]
  },
  {
   "cell_type": "code",
   "execution_count": null,
   "id": "786eb0e5",
   "metadata": {
    "ExecuteTime": {
     "end_time": "2022-03-08T02:44:37.952645Z",
     "start_time": "2022-03-08T02:44:37.899022Z"
    }
   },
   "outputs": [],
   "source": [
    "df = ...\n",
    "scores = ..."
   ]
  },
  {
   "cell_type": "code",
   "execution_count": null,
   "id": "3294e38d",
   "metadata": {
    "ExecuteTime": {
     "end_time": "2022-03-08T02:44:38.454372Z",
     "start_time": "2022-03-08T02:44:38.401098Z"
    }
   },
   "outputs": [],
   "source": [
    "tests.run('test_1a', scores)"
   ]
  },
  {
   "cell_type": "markdown",
   "id": "9da3b1f9",
   "metadata": {},
   "source": [
    "### Q1b: histogram\n",
    "\n",
    "Create a histogram of the scores above with 10 bins. **Make sure you label the axes appropriately.**\n",
    "\n",
    "Hint: read the documentation for ``Axes.hist``."
   ]
  },
  {
   "cell_type": "code",
   "execution_count": null,
   "id": "3c835d60",
   "metadata": {
    "ExecuteTime": {
     "end_time": "2022-03-08T02:44:39.660025Z",
     "start_time": "2022-03-08T02:44:39.365410Z"
    }
   },
   "outputs": [],
   "source": [
    "# TODO"
   ]
  },
  {
   "cell_type": "markdown",
   "id": "695f7b80",
   "metadata": {},
   "source": [
    "### Q1c: expected score\n",
    "\n",
    "Calculate the expectation value of the scores and print it out. "
   ]
  },
  {
   "cell_type": "code",
   "execution_count": null,
   "id": "540f96b3",
   "metadata": {
    "ExecuteTime": {
     "end_time": "2022-03-08T02:44:44.007815Z",
     "start_time": "2022-03-08T02:44:43.955146Z"
    }
   },
   "outputs": [],
   "source": [
    "# TODO"
   ]
  },
  {
   "cell_type": "markdown",
   "id": "baf482f9",
   "metadata": {},
   "source": [
    "### Q1d: standard deviation\n",
    "Calculate the standard deviation of the scores and print it out."
   ]
  },
  {
   "cell_type": "code",
   "execution_count": null,
   "id": "cebec482",
   "metadata": {
    "ExecuteTime": {
     "end_time": "2022-03-08T02:44:46.161765Z",
     "start_time": "2022-03-08T02:44:46.104359Z"
    }
   },
   "outputs": [],
   "source": [
    "# TODO"
   ]
  },
  {
   "cell_type": "markdown",
   "id": "72e72202",
   "metadata": {},
   "source": [
    "### Q1e: 1 sigma\n",
    "\n",
    "Calculate the probability that the score of a randomly chosen student in our survey is within 1.37 standard deviations of the mean."
   ]
  },
  {
   "cell_type": "code",
   "execution_count": null,
   "id": "f77d59b6",
   "metadata": {
    "ExecuteTime": {
     "end_time": "2022-03-08T02:44:47.332575Z",
     "start_time": "2022-03-08T02:44:47.271846Z"
    }
   },
   "outputs": [],
   "source": [
    "prob = ..."
   ]
  },
  {
   "cell_type": "code",
   "execution_count": null,
   "id": "945845f6",
   "metadata": {
    "ExecuteTime": {
     "end_time": "2022-03-08T02:44:47.832877Z",
     "start_time": "2022-03-08T02:44:47.772880Z"
    }
   },
   "outputs": [],
   "source": [
    "tests.run('test_1e', prob)"
   ]
  },
  {
   "cell_type": "markdown",
   "id": "4c1288ae",
   "metadata": {},
   "source": [
    "### Q1f: Normal CDF\n",
    "\n",
    "First, import ``norm`` from ``scipy.stats``. If you do not have ``scipy`` installed, install the package with pip.\n",
    "\n",
    "As its name suggests, ``scipy`` is a package for performing scientific calculations, among them, the normal distribution ``norm``. Read the documentation for ``norm.cdf``, which calculates the cumulative distribution function (CDF) of the normal distribution at some point ``x``. Finally, calculate the probability that a random sample of the normal distribution is within 1.37 standard deviations of the mean. How does this compare to the probability we found in part e?\n",
    "\n",
    "Hint: ``loc`` is the mean and ``scale`` is the std."
   ]
  },
  {
   "cell_type": "code",
   "execution_count": null,
   "id": "c98a741a",
   "metadata": {
    "ExecuteTime": {
     "end_time": "2022-03-08T02:44:49.431119Z",
     "start_time": "2022-03-08T02:44:49.367773Z"
    }
   },
   "outputs": [],
   "source": [
    "from scipy.stats import norm\n",
    "\n",
    "true_prob = ..."
   ]
  },
  {
   "cell_type": "code",
   "execution_count": null,
   "id": "784d8cb2",
   "metadata": {
    "ExecuteTime": {
     "end_time": "2022-03-08T02:44:49.964805Z",
     "start_time": "2022-03-08T02:44:49.921062Z"
    }
   },
   "outputs": [],
   "source": [
    "tests.run('test_1f', true_prob)"
   ]
  },
  {
   "cell_type": "markdown",
   "id": "9f39bd54",
   "metadata": {},
   "source": [
    "### Q1g: Kind of undersanding how your grades are calculated (EXTRA)"
   ]
  },
  {
   "cell_type": "markdown",
   "id": "0a36ee0d",
   "metadata": {},
   "source": [
    "This section has been done for you. It's a rough display of what we mean by the 'CURVE' when talking about grades at Berkeley. Firstly, the method ```norm.ppf()``` takes a percentage and returns a standard deviation multiplier for what value that percentage occurrs at. So to calculate the 99th percentile, we would do the following:"
   ]
  },
  {
   "cell_type": "code",
   "execution_count": null,
   "id": "06bc6ed2",
   "metadata": {},
   "outputs": [],
   "source": [
    "ninty_ninth_percentile = norm.ppf(.99, loc = mean, scale = std )\n",
    "ninty_ninth_percentile "
   ]
  },
  {
   "cell_type": "markdown",
   "id": "9b98d1ce",
   "metadata": {},
   "source": [
    "What this means is that if a student happens to be in the ninty-ninth percentile (usually an A+), their expected score is 126. Additionally, you can choose to see the entire distribution of scores between the first percentile and the ninty-nith percentile through a graph using matplotlib:"
   ]
  },
  {
   "cell_type": "code",
   "execution_count": null,
   "id": "aa70fc8d",
   "metadata": {},
   "outputs": [],
   "source": [
    "first_percentile = norm.ppf(.01, loc = mean, scale = std )\n",
    "ninty_ninth_percentile = norm.ppf(.99, loc = mean, scale = std )\n",
    "x = np.linspace(first_percentile, ninty_ninth_percentile, len(scores))\n",
    "plt.plot(x, norm.pdf(x, mean, std))"
   ]
  },
  {
   "cell_type": "markdown",
   "id": "b6eb36ea",
   "metadata": {},
   "source": [
    "However, sometimes, we project this normal distribution to the standard normal distribution. A standard normal distribution has a mean of 0 and a standard deviation of 1. If you have ever been stressed about your grades like me, you probably looked up what a Z-score is. You probably even know how to calculate it. Z-score is nothing but standardazing your random variable. In other words if the random variable X is the 'projected score you want', Z-score is your 'standardized projected score'. We can go from percentiles to z score and vice-versa. \n",
    "\n",
    "So, below we try to project the normal distbution onto a standard normal distirbution:"
   ]
  },
  {
   "cell_type": "code",
   "execution_count": null,
   "id": "322d209a",
   "metadata": {},
   "outputs": [],
   "source": [
    "z_scores = (np.round(scores, 0) - mean)/std\n",
    "first_percentile = norm.ppf(.01, loc = np.mean(z_scores), scale = np.std(z_scores))\n",
    "ninty_ninth_percentile = norm.ppf(.99, loc = np.mean(z_scores), scale = np.std(z_scores))\n",
    "x = np.linspace(first_percentile, ninty_ninth_percentile, 500)\n",
    "plt.plot(x, norm.pdf(x))"
   ]
  },
  {
   "cell_type": "markdown",
   "id": "23d27782",
   "metadata": {},
   "source": [
    "Your x-axis now directly corresponds to the percentile you are in! So a z-score of 1.2 would give you your percentile:"
   ]
  },
  {
   "cell_type": "code",
   "execution_count": null,
   "id": "27355d90",
   "metadata": {},
   "outputs": [],
   "source": [
    "mean = np.mean(z_scores)\n",
    "std = np.std(z_scores)\n",
    "N = len(scores)\n",
    "count = np.sum(z_scores < 1.2)\n",
    "prob = count/N\n",
    "print(prob) "
   ]
  },
  {
   "cell_type": "markdown",
   "id": "af20eaef",
   "metadata": {},
   "source": [
    "Your z-score puts you in the 86.2nd percentile! "
   ]
  },
  {
   "cell_type": "markdown",
   "id": "2bd05b0d",
   "metadata": {},
   "source": [
    "## Question 2: The Distribution named after Fish "
   ]
  },
  {
   "cell_type": "markdown",
   "id": "758bc90a",
   "metadata": {},
   "source": [
    "A study shows that on average, 50 people visit a local supermarket per day. The number of people that arrive on any given day is modeled by the Poisson distribution. For a random variable with Poisson Distribution (i.e. $X \\sim Poisson(\\lambda))$, its expected value is the $\\lambda$ parameter.\n",
    "\n",
    "To find the probability that we obsrve $x$ events in time $t$, we break up the time $t$ into $n$ intervals. For $n$ large enough, the time interval is so short that, at most, one event can occur. The probability of this event occurring is $\\lambda(t/n)$. Therefore we can model each small time intervals as a Bernoulli Trial with $p=\\lambda t/n$.\n",
    "\n",
    "### Q2a: a single Poisson process\n",
    "\n",
    "Write a function ``poisson_process`` which simulates the number of arrivals for a single Poisson process of rate ``lam`` during time ``t`` with ``N`` time increments. For example, ``poisson_process(lam=50, t=1, N=10000)`` would simulate the number of shoppers that visit the supermarket for a given day. The function should proceed as follows:\n",
    "1. Break ``t`` into ``N`` increments of time $\\delta t = t/N$\n",
    "2. The probability that a shopper arrives in one small time increment $\\delta t$ is $\\lambda\\cdot \\delta t$. Using a random number generator (```np.random.rand```), determine by chance if a shopper actually arrives in this time increment.\n",
    "3. Repeat the previous step for all ``N`` increments, and return the total number of shoppers that arrive in your simulation."
   ]
  },
  {
   "cell_type": "code",
   "execution_count": null,
   "id": "0a7bc06f",
   "metadata": {
    "ExecuteTime": {
     "end_time": "2022-03-08T02:44:53.248423Z",
     "start_time": "2022-03-08T02:44:53.179909Z"
    }
   },
   "outputs": [],
   "source": [
    "def poisson_process(lam, t, N):\n",
    "    # TODO"
   ]
  },
  {
   "cell_type": "code",
   "execution_count": null,
   "id": "5e068f2f",
   "metadata": {
    "ExecuteTime": {
     "end_time": "2022-03-08T02:44:54.113042Z",
     "start_time": "2022-03-08T02:44:53.929198Z"
    }
   },
   "outputs": [],
   "source": [
    "# since your simulation is probabilistic, there is a small (~2 percent) chance of failing the test \n",
    "# the chance of failing twice is quite unlikely\n",
    "tests.run('test_2a', poisson_process)"
   ]
  },
  {
   "cell_type": "markdown",
   "id": "a58aefcd",
   "metadata": {},
   "source": [
    "### Q2b: a distribution of Poisson processes\n",
    "\n",
    "Your function ``poisson_process`` simulates a single instance of the Poisson process (e.g. recording the number of shopper in a single day). In order to get a sense of the distribution of the number of shoppers, record the results of 1000 Poisson processes in the array ``x``. We will continue with the shoppers example, so let ``lam=50, t=1, n=10000``."
   ]
  },
  {
   "cell_type": "code",
   "execution_count": null,
   "id": "0482609d",
   "metadata": {
    "ExecuteTime": {
     "end_time": "2022-03-08T02:44:55.269219Z",
     "start_time": "2022-03-08T02:44:55.090191Z"
    }
   },
   "outputs": [],
   "source": [
    "x = ..."
   ]
  },
  {
   "cell_type": "code",
   "execution_count": null,
   "id": "e8cc5567",
   "metadata": {
    "ExecuteTime": {
     "end_time": "2022-03-08T02:44:55.611301Z",
     "start_time": "2022-03-08T02:44:55.549667Z"
    }
   },
   "outputs": [],
   "source": [
    "# since your simulation is probabilistic, there is a small (but non-zero) chance of failing the test \n",
    "# re-run the cell above if you believe this is the case\n",
    "tests.run('test_2b', x)"
   ]
  },
  {
   "cell_type": "markdown",
   "id": "d63c5aaa",
   "metadata": {},
   "source": [
    "### Q2c: plots!\n",
    "\n",
    "Already provided for you is the code for plotting the expected Poisson distribution for the number of shoppers. Using your simulation results from above, plot (on the same figure) a *normalized* histogram of the simulated number of shoppers with 20 bins. Make sure to label your axes appropriately!\n",
    "\n",
    "Hint: to create a normalized histogram, use ``density=True``.\n",
    "\n",
    "Do the plots agree? "
   ]
  },
  {
   "cell_type": "code",
   "execution_count": null,
   "id": "0b25de3f",
   "metadata": {
    "ExecuteTime": {
     "end_time": "2022-03-08T02:44:57.262182Z",
     "start_time": "2022-03-08T02:44:56.975187Z"
    }
   },
   "outputs": [],
   "source": [
    "\n",
    "fig, ax = plt.subplots()\n",
    "\n",
    "# TODO\n",
    "\n",
    "mu = 50\n",
    "xx = np.arange(poisson.ppf(0.005, mu),poisson.ppf(0.995, mu))\n",
    "ax.plot(xx, poisson.pmf(xx, mu), '-', label='theory')\n",
    "ax.legend()\n",
    "ax.set_xlabel('Number of shoppers in a day')\n",
    "ax.set_ylabel('Count')\n",
    "\n",
    "plt.show()"
   ]
  },
  {
   "cell_type": "markdown",
   "id": "1b156042",
   "metadata": {},
   "source": [
    "## Submission\n",
    "\n",
    "Check to make sure that you have answered all questions. Run all the cells so that all output is visible. Finally, export this notebook as a PDF (File/Download As/PDF via LaTeX (.pdf)) and submit to bCourses.\n",
    "\n",
    "Created and edited by the ULAB staff. Last updated: December 2021."
   ]
  }
 ],
 "metadata": {
  "kernelspec": {
   "display_name": "Python 3",
   "language": "python",
   "name": "python3"
  },
  "language_info": {
   "codemirror_mode": {
    "name": "ipython",
    "version": 3
   },
   "file_extension": ".py",
   "mimetype": "text/x-python",
   "name": "python",
   "nbconvert_exporter": "python",
   "pygments_lexer": "ipython3",
   "version": "3.8.8"
  },
  "toc": {
   "base_numbering": 1,
   "nav_menu": {},
   "number_sections": false,
   "sideBar": true,
   "skip_h1_title": false,
   "title_cell": "Table of Contents",
   "title_sidebar": "Contents",
   "toc_cell": false,
   "toc_position": {},
   "toc_section_display": true,
   "toc_window_display": true
  }
 },
 "nbformat": 4,
 "nbformat_minor": 5
}
