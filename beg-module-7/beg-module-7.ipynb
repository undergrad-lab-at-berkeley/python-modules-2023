{
 "cells": [
  {
   "cell_type": "code",
   "execution_count": null,
   "metadata": {
    "ExecuteTime": {
     "end_time": "2022-02-01T16:47:46.386595Z",
     "start_time": "2022-02-01T16:47:46.339816Z"
    }
   },
   "outputs": [],
   "source": [
    "import numpy as np\n",
    "import matplotlib.pyplot as plt\n",
    "from matplotlib import image"
   ]
  },
  {
   "cell_type": "markdown",
   "metadata": {},
   "source": [
    "# ULAB Physics & Astronomy: Python Module VII"
   ]
  },
  {
   "cell_type": "markdown",
   "metadata": {},
   "source": [
    "## Question 1: A Stack Full of Arrays [15 Points]\n",
    "\n",
    "You are given two 2D arrays ``a`` and ``b``. For example,\n",
    "\n",
    "```\n",
    ">>> a\n",
    "array([[0, 1, 2, 3, 4],\n",
    "       [5, 6, 7, 8, 9]])\n",
    "       \n",
    ">>> b\n",
    "array([[1, 1, 1, 1, 1],\n",
    "       [1, 1, 1, 1, 1]])\n",
    "```\n",
    "\n",
    "### 1a\n",
    "Implement a function ``vstacked`` which returns a new array with the values of ``a`` and ``b`` vertically stacked. For example,\n",
    "\n",
    "```\n",
    ">>> vstacked(a,b)\n",
    "array([[0, 1, 2, 3, 4],\n",
    "       [5, 6, 7, 8, 9],\n",
    "       [1, 1, 1, 1, 1],\n",
    "       [1, 1, 1, 1, 1]])\n",
    "```\n",
    "\n",
    "Hint: you can use ``numpy.vstack`` or ``numpy.concatenate`` and specify axis."
   ]
  },
  {
   "cell_type": "code",
   "execution_count": null,
   "metadata": {
    "ExecuteTime": {
     "end_time": "2022-02-01T16:47:47.473387Z",
     "start_time": "2022-02-01T16:47:47.441783Z"
    }
   },
   "outputs": [],
   "source": [
    "a = np.arange(10).reshape(2,-1)\n",
    "b = np.repeat(1, 10).reshape(2,-1)\n",
    "\n",
    "\n",
    "def vstacked(a,b):\n",
    "    return ..."
   ]
  },
  {
   "cell_type": "code",
   "execution_count": null,
   "metadata": {
    "ExecuteTime": {
     "end_time": "2022-02-01T16:47:47.643372Z",
     "start_time": "2022-02-01T16:47:47.602062Z"
    }
   },
   "outputs": [],
   "source": [
    "print(vstacked(a,b))"
   ]
  },
  {
   "cell_type": "markdown",
   "metadata": {},
   "source": [
    "### 1b\n",
    "\n",
    "Implement a function ``hstacked`` which returns parameters ``a`` and ``b`` horizontally stacked. For example,\n",
    "\n",
    "```\n",
    ">>> hstacked(a,b)\n",
    "array([[0, 1, 2, 3, 4, 1, 1, 1, 1, 1],\n",
    "       [5, 6, 7, 8, 9, 1, 1, 1, 1, 1]])\n",
    "```"
   ]
  },
  {
   "cell_type": "code",
   "execution_count": null,
   "metadata": {
    "ExecuteTime": {
     "end_time": "2022-02-01T16:47:47.969593Z",
     "start_time": "2022-02-01T16:47:47.936095Z"
    }
   },
   "outputs": [],
   "source": [
    "def hstacked(a,b):\n",
    "    return ..."
   ]
  },
  {
   "cell_type": "code",
   "execution_count": null,
   "metadata": {
    "ExecuteTime": {
     "end_time": "2022-02-01T16:47:48.148753Z",
     "start_time": "2022-02-01T16:47:48.097418Z"
    }
   },
   "outputs": [],
   "source": [
    "hstacked(a, b)"
   ]
  },
  {
   "cell_type": "markdown",
   "metadata": {},
   "source": [
    "## Question 2 : The Gray Oski [15 Points]\n",
    "\n",
    "With Valentine's Day coming up next week, it is only appropriate to admire the image of Oski below. "
   ]
  },
  {
   "cell_type": "code",
   "execution_count": null,
   "metadata": {
    "ExecuteTime": {
     "end_time": "2022-02-01T16:47:50.151345Z",
     "start_time": "2022-02-01T16:47:49.571835Z"
    }
   },
   "outputs": [],
   "source": [
    "img = image.imread('oski.jpeg')\n",
    "plt.imshow(img)\n",
    "plt.show()"
   ]
  },
  {
   "cell_type": "markdown",
   "metadata": {},
   "source": [
    "``img`` is a numpy array with shape,\n",
    "```\n",
    ">>> img.shape\n",
    "(1160, 1800, 3)\n",
    "```\n",
    "\n",
    "This indicates that the images is 1160x1800 pixels large with 3 color channels (R, G, B). The data is stored as a 1160 row by 1800 column matrix where each element of the matrix is an array containing the color values of each pixel.\n",
    "\n",
    "Suppose we believe this image would look better in grayscale. To convert a colored image to grayscale, we must create a new array of size ``(1160, 1800)`` and combine the 3 color values into a single grayscale value.\n",
    "\n",
    "Using eq. 7 of this [reference](grayscale_conversion.pdf), create a new image ``gray`` that is the grayscale version of ``img``. Use a color map to project the image ``gray`` to a gray color map.\n"
   ]
  },
  {
   "cell_type": "code",
   "execution_count": null,
   "metadata": {
    "ExecuteTime": {
     "end_time": "2022-02-01T16:47:50.229039Z",
     "start_time": "2022-02-01T16:47:50.153924Z"
    }
   },
   "outputs": [],
   "source": [
    "gray = ...\n",
    "#This is just a grayscale value. Doesn't really map to gray unless you use a color map"
   ]
  },
  {
   "cell_type": "code",
   "execution_count": null,
   "metadata": {
    "ExecuteTime": {
     "end_time": "2022-02-01T16:47:50.816008Z",
     "start_time": "2022-02-01T16:47:50.258305Z"
    }
   },
   "outputs": [],
   "source": [
    "plt.imshow(..., ...)\n",
    "plt.show()"
   ]
  },
  {
   "cell_type": "markdown",
   "metadata": {},
   "source": [
    "Now, flip your image across the x-axis"
   ]
  },
  {
   "cell_type": "code",
   "execution_count": null,
   "metadata": {},
   "outputs": [],
   "source": [
    "gray_flipped=...\n",
    "plt.imshow(...,...)\n",
    "plt.show()"
   ]
  },
  {
   "cell_type": "markdown",
   "metadata": {},
   "source": [
    "Flip it across the y-axis now"
   ]
  },
  {
   "cell_type": "code",
   "execution_count": null,
   "metadata": {},
   "outputs": [],
   "source": [
    "gray_flipped=...\n",
    "plt.imshow(...,...)\n",
    "plt.show()"
   ]
  },
  {
   "cell_type": "markdown",
   "metadata": {},
   "source": [
    "## Question 3: A Star is Born [20 Points]\n",
    "\n",
    "The European Space Agency’s Gaia space mission has provided an unprecedented catalog of over 1 Billion star positions and brightnesses. A subset of those have been collected into the Gaia Catalog of Nearby stars, containing about 300,000 stars within 100 pc. \n",
    "\n",
    "You will use a subset of data from the Gaia Catalog of Nearby Stars and make a four panel plot that shows a HR Diagram in each panel. An HR diagram is similar to a color-magnitude diagram. The panels will be distinct in that each uses a different filter in order to eliminate 25-75% of the data points. Each panel should be related to stellar populations or the importance of the quality of data. Write a caption for each panel"
   ]
  },
  {
   "cell_type": "markdown",
   "metadata": {},
   "source": [
    "<b> Step 1</b> We will import a library called pandas as pd"
   ]
  },
  {
   "cell_type": "code",
   "execution_count": null,
   "metadata": {},
   "outputs": [],
   "source": [
    "import pandas as pd"
   ]
  },
  {
   "cell_type": "markdown",
   "metadata": {},
   "source": [
    "<b> Step 2</b> We will use pandas to read a csv file. This has been done for you. Run the cell below"
   ]
  },
  {
   "cell_type": "code",
   "execution_count": null,
   "metadata": {},
   "outputs": [],
   "source": [
    "df = pd.read_csv('GaiaSource_2112514745830880640_2112747296837846528.csv')\n",
    "df"
   ]
  },
  {
   "cell_type": "markdown",
   "metadata": {},
   "source": [
    "```df``` above stands for data frame. It embodies the file we just read. From the ```df``` above, we want to select 3 color filters for our HR Diagram. We do this by mentioning the column name being selected. For instance, if we want to select the ```bp_rp``` filter (The Blue-Red Filter), we can run the following command:"
   ]
  },
  {
   "cell_type": "code",
   "execution_count": null,
   "metadata": {},
   "outputs": [],
   "source": [
    "blue_red=df['bp_rp']"
   ]
  },
  {
   "cell_type": "markdown",
   "metadata": {},
   "source": [
    "<b> Step 3:</b> Use the example above to call 2 columns: ```bp_g``` (Blue-Green Filter) and ```g_rp``` (Green-Red Filter)"
   ]
  },
  {
   "cell_type": "code",
   "execution_count": null,
   "metadata": {},
   "outputs": [],
   "source": [
    "blue_green = df[...]\n",
    "green_red = df[...]"
   ]
  },
  {
   "cell_type": "markdown",
   "metadata": {},
   "source": [
    "<b> Step 4: </b> Select the luminosity column from ```df```. The luminosity column has the following name: ```lum_val```"
   ]
  },
  {
   "cell_type": "code",
   "execution_count": null,
   "metadata": {},
   "outputs": [],
   "source": [
    "luminosity = ..."
   ]
  },
  {
   "cell_type": "markdown",
   "metadata": {},
   "source": [
    "<b> Step 5: </b> Use subplots to draw the three-panel HR Diagrams. \n",
    "\n",
    "In your 0th axes, plot (use a scatter plot) the ```blue_red``` v/s ```lum_val```. Give your points an orange color.  \n",
    "\n",
    "\n",
    "In your 1st axes, plot (use a scatter plot) the ```blue_green``` v/s ```lum_val```. Give your points a blue color.  \n",
    "\n",
    "\n",
    "In your 2nd axes, plot (use a scatter plot) the ```green_red``` v/s ```lum_val```. Give your points a green color.  \n",
    "\n",
    "For all three diagrams, set s (the size of each data point in your scatter plot) to 1 and set your yscale to ```log```."
   ]
  },
  {
   "cell_type": "code",
   "execution_count": null,
   "metadata": {},
   "outputs": [],
   "source": [
    "fig, ax = plt.subplots(1, 3, figsize=(20,10)) # Gives you your figure, 3 axes and sets the figure size to 20x10\n",
    "#This step sets x limits for your 0th, 1st and 2nd graph\n",
    "ax[0].set_xlim(0,4)\n",
    "ax[1].set_xlim(0,4)\n",
    "ax[2].set_xlim(0,4)\n",
    "\n",
    "#Use the space below to complete the task\n",
    "...\n",
    "plt.show()"
   ]
  },
  {
   "cell_type": "markdown",
   "metadata": {},
   "source": [
    "## Submission\n",
    "\n",
    "Check to make sure that you have answered all questions. Run all the cells so that all output is visible. Finally, export this notebook as a PDF (File/Download As/PDF via LaTeX (.pdf)) and submit to bCourses."
   ]
  },
  {
   "cell_type": "markdown",
   "metadata": {},
   "source": [
    "<b>References:</b> \n",
    "\n",
    "Questions inspired by work by Selva Prabhakaran and Vasu Gupta.\n",
    "\n",
    "Images: Yi Zhu, 2018\n",
    "\n",
    "Last Updated: Feb 2023"
   ]
  },
  {
   "cell_type": "code",
   "execution_count": null,
   "metadata": {},
   "outputs": [],
   "source": []
  }
 ],
 "metadata": {
  "kernelspec": {
   "display_name": "Python 3",
   "language": "python",
   "name": "python3"
  },
  "language_info": {
   "codemirror_mode": {
    "name": "ipython",
    "version": 3
   },
   "file_extension": ".py",
   "mimetype": "text/x-python",
   "name": "python",
   "nbconvert_exporter": "python",
   "pygments_lexer": "ipython3",
   "version": "3.8.8"
  },
  "toc": {
   "base_numbering": 1,
   "nav_menu": {},
   "number_sections": false,
   "sideBar": true,
   "skip_h1_title": false,
   "title_cell": "Table of Contents",
   "title_sidebar": "Contents",
   "toc_cell": false,
   "toc_position": {},
   "toc_section_display": true,
   "toc_window_display": true
  }
 },
 "nbformat": 4,
 "nbformat_minor": 2
}
