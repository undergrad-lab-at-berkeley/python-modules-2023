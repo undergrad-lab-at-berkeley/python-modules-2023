{
 "cells": [
  {
   "cell_type": "markdown",
   "id": "84851ac4-1f10-4399-97e5-63535d69a96b",
   "metadata": {},
   "source": [
    "# AstroPy: The Library of Astrophysics\n",
    "\n",
    "The astropy package contains key functionality and common tools needed for performing astronomy and astrophysics with Python. It is at the core of the Astropy Project, which aims to enable the community to develop a robust ecosystem of affiliated packages covering a broad range of needs for astronomical research, data processing, and data analysis.\n",
    "\n",
    "If you have not installed astropy before, run the cell below"
   ]
  },
  {
   "cell_type": "code",
   "execution_count": null,
   "id": "428dc5f5-2d59-4780-a0e3-13233673c45a",
   "metadata": {},
   "outputs": [],
   "source": [
    "pip install astropy"
   ]
  },
  {
   "cell_type": "markdown",
   "id": "c83edf66-127a-462d-bc59-dd8f74bbd5d3",
   "metadata": {},
   "source": [
    "Run the cell below to call upon our dear friends Numpy and Matplotlib"
   ]
  },
  {
   "cell_type": "code",
   "execution_count": null,
   "id": "00bffec7-62f2-4d0d-8b55-11868a43ebe2",
   "metadata": {},
   "outputs": [],
   "source": [
    "import numpy as np\n",
    "import matplotlib.pyplot as plt"
   ]
  },
  {
   "cell_type": "markdown",
   "id": "aeeb8126-545c-4ded-8268-8b5c47310ba7",
   "metadata": {},
   "source": [
    "# Gone are the Days of Hand-Calculated Unit Conversions\n"
   ]
  },
  {
   "cell_type": "markdown",
   "id": "c077af18-bb74-48df-83c5-7cd3dc4df54d",
   "metadata": {},
   "source": [
    "One major benefit of using astropy is that it gives you a package full of units. You can simply use this package to perform unit conversions. Astropy also a ```constants``` module where typical physical constants are available. \n",
    "\n",
    "The constants are stored as objects of a subclass of Quantity, so they behave just like a Quantity. Here, we only need the gravitational constant G, Planck's constant h, and Boltzmann's constant, k_B.\n",
    "\n"
   ]
  },
  {
   "cell_type": "code",
   "execution_count": null,
   "id": "785d80af-9815-4cb7-ac90-c3b4b1836a12",
   "metadata": {},
   "outputs": [],
   "source": [
    "import astropy.units as u\n",
    "from astropy.constants import G, h, k_B"
   ]
  },
  {
   "cell_type": "markdown",
   "id": "1b66e896-2f94-4572-b853-cd12a785c8dd",
   "metadata": {},
   "source": [
    "Before jumping into the problem, let's try to go over units briefly. Units can then be accessed as ```u.<unit>```. For example, the meter unit is:"
   ]
  },
  {
   "cell_type": "code",
   "execution_count": null,
   "id": "aee4e2df-5849-4cba-932d-09525a81e45d",
   "metadata": {},
   "outputs": [],
   "source": [
    "u.m"
   ]
  },
  {
   "cell_type": "markdown",
   "id": "e68a1c39-ff0f-4526-a697-9e37aba689d6",
   "metadata": {},
   "source": [
    "Units have docstrings, which give some explanatory text about them:"
   ]
  },
  {
   "cell_type": "code",
   "execution_count": null,
   "id": "bd544c3c-ab95-4f03-9db7-0ddc755abedb",
   "metadata": {},
   "outputs": [],
   "source": [
    "u.m.__doc__"
   ]
  },
  {
   "cell_type": "markdown",
   "id": "edfa3b26-fa78-46f4-beb4-b1b9111ead18",
   "metadata": {},
   "source": [
    "We can also access the physical type of our unit:"
   ]
  },
  {
   "cell_type": "code",
   "execution_count": null,
   "id": "99d93f94-ca87-4d73-80ec-62a3dab0db27",
   "metadata": {},
   "outputs": [],
   "source": [
    "u.m.physical_type"
   ]
  },
  {
   "cell_type": "markdown",
   "id": "1d21a7be-6d95-4a5c-8531-8afe41ed0de6",
   "metadata": {},
   "source": [
    "SI and cgs units are available by default, but Imperial units require the imperial prefix. "
   ]
  },
  {
   "cell_type": "code",
   "execution_count": null,
   "id": "7f7fd6a1-430c-45cc-9aa1-7595b75488e8",
   "metadata": {},
   "outputs": [],
   "source": [
    "u.imperial.inch"
   ]
  },
  {
   "cell_type": "markdown",
   "id": "3b5f17f3-105b-43f4-bc7f-36db29ba29bc",
   "metadata": {},
   "source": [
    "Imperial units are not encouraged in this module. Dex will run behind you with a stick if he finds you using imperial units anywhere. "
   ]
  },
  {
   "cell_type": "markdown",
   "id": "9eaa57f4-e96f-4eec-ae50-cf33671d5a70",
   "metadata": {},
   "source": [
    "Composite units are created using Python numeric operators. An example:"
   ]
  },
  {
   "cell_type": "code",
   "execution_count": null,
   "id": "cd46f1fb-ef23-4421-8a06-b8856ec7971e",
   "metadata": {},
   "outputs": [],
   "source": [
    "u.m/u.s"
   ]
  },
  {
   "cell_type": "markdown",
   "id": "14e4dba9-7a21-4ae9-98ae-226f67420260",
   "metadata": {},
   "source": [
    "The most useful feature of units is the ability to attach them to scalars or arrays, creating Quantity objects. A Quantity object contains both a value and a unit. The most convenient way to create a Quantity object is by multiplying the value with its unit."
   ]
  },
  {
   "cell_type": "code",
   "execution_count": null,
   "id": "c0fac932-0636-4ec9-9d98-be48e39c1489",
   "metadata": {},
   "outputs": [],
   "source": [
    "3.7 * u.au  # Quantity object\n"
   ]
  },
  {
   "cell_type": "markdown",
   "id": "dab4a4ba-e9fd-4013-9d9c-a076e1f5665c",
   "metadata": {},
   "source": [
    "The quantinty object above has values and units. Let's access them separately "
   ]
  },
  {
   "cell_type": "code",
   "execution_count": null,
   "id": "9195cd18-b82e-4af8-adbb-dfcefef858a5",
   "metadata": {},
   "outputs": [],
   "source": [
    "quantity = 3.7 * u.au"
   ]
  },
  {
   "cell_type": "code",
   "execution_count": null,
   "id": "710f4e18-7e2e-4e40-aaaa-bb60c649f663",
   "metadata": {},
   "outputs": [],
   "source": [
    "quantity.value"
   ]
  },
  {
   "cell_type": "code",
   "execution_count": null,
   "id": "80b47f0e-cc59-4b5e-8cdd-2509d24b8217",
   "metadata": {},
   "outputs": [],
   "source": [
    "quantity.unit"
   ]
  },
  {
   "cell_type": "markdown",
   "id": "c9d011ee-d472-4a0a-9d59-0d23df370081",
   "metadata": {},
   "source": [
    "Units can be converted to other equivalent units."
   ]
  },
  {
   "cell_type": "code",
   "execution_count": null,
   "id": "ddc9c2d4-6212-4c6b-a323-702e330010f4",
   "metadata": {},
   "outputs": [],
   "source": [
    "q = 2.5 * u.year\n",
    "q\n",
    "# Convert year to seconds.\n",
    "q.to(u.s)\n"
   ]
  },
  {
   "cell_type": "markdown",
   "id": "a5a2a35c-b390-4d94-9adb-561db1fc6eb4",
   "metadata": {},
   "source": [
    "You can also define custom units for something that isn't built in to Astropy. Let's define a unit called \"sol\" that represents a Martian day."
   ]
  },
  {
   "cell_type": "code",
   "execution_count": null,
   "id": "6d61ea75-58ba-4bf5-b023-9c3b1cc8f411",
   "metadata": {},
   "outputs": [],
   "source": [
    "sol = u.def_unit('sol', 1.0274912510 * u.day)\n"
   ]
  },
  {
   "cell_type": "code",
   "execution_count": null,
   "id": "3670f137-e09b-4a5a-9f88-45429d14fa0a",
   "metadata": {},
   "outputs": [],
   "source": [
    "(1. * u.yr).to(sol)  # 1 Earth year in Martian sol units.\n"
   ]
  },
  {
   "cell_type": "markdown",
   "id": "776995f2-5d56-45e5-82cf-ffd3ea5b379d",
   "metadata": {},
   "source": [
    "# Question 1: Mark Watney is Stranded in Space"
   ]
  },
  {
   "cell_type": "markdown",
   "id": "501d8e2c-0f33-44ca-842c-da6ae74e55c5",
   "metadata": {},
   "source": [
    "Mark Watney is an idiot. Even though he was once stranded on Mars, he decided to venture out into the cosmos once again. This time, he's ended up trapping himself near a Black Hole. Mark Watney is now falling towards this Black Hole and luckily he has watched Interstellar. He knows there's a 4D spacetime inside the Black Hole that'll drop him right outside Saturn. So he's not worried at all. Instead, he will now calculate the angular size of the event horizon."
   ]
  },
  {
   "cell_type": "markdown",
   "id": "3c5da075-7213-45b0-b7fd-0dd83b308cdd",
   "metadata": {},
   "source": [
    "The mass of the Black Hole that Watney is falling into is:\n",
    "$$M = 4.31 \\times 10^6 M_\\odot$$"
   ]
  },
  {
   "cell_type": "markdown",
   "id": "0debf53d-0df9-40ba-877c-5666d3bb4bd5",
   "metadata": {},
   "source": [
    "The Schwarzschild radius is defined as:\n"
   ]
  },
  {
   "cell_type": "markdown",
   "id": "b3ee385b-dd48-4f06-86f3-8aae2c04868a",
   "metadata": {},
   "source": [
    "$$r_s = \\frac{2GM}{c^2}$$"
   ]
  },
  {
   "cell_type": "markdown",
   "id": "2ecbf50d-7bb3-4011-a916-aade5eecd746",
   "metadata": {},
   "source": [
    "Given that the distance to the galactic center is $d_{center}= 7.94 kPC$, use the following equation to find the angular size of the event horizon on the sky in arcseconds\n",
    "\n",
    "$$ \\theta = arctan \\frac{2r_s}{d_{center}}$$"
   ]
  },
  {
   "cell_type": "code",
   "execution_count": null,
   "id": "071ce417-6357-47f4-8cd0-d59ad0a2c056",
   "metadata": {},
   "outputs": [],
   "source": [
    "import astropy.units as u\n",
    "from astropy import constants as const"
   ]
  },
  {
   "cell_type": "markdown",
   "id": "e9825fed-bdf6-4a3d-b456-e25c978ffeee",
   "metadata": {},
   "source": [
    "I have imported all astropy constants above. Your task is to figure out which astropy constants are needed for this question, and then use them to help Watney."
   ]
  },
  {
   "cell_type": "code",
   "execution_count": null,
   "id": "851d02de-32e9-4edf-8133-ae6876fbe78a",
   "metadata": {},
   "outputs": [],
   "source": [
    "# Calculate radius here\n"
   ]
  },
  {
   "cell_type": "code",
   "execution_count": null,
   "id": "22b2a43c-00f2-4957-a325-bd101d578367",
   "metadata": {},
   "outputs": [],
   "source": [
    "# Calculate angular size here\n"
   ]
  },
  {
   "cell_type": "markdown",
   "id": "0d516fd5-2c68-4b43-80b2-2fa43474a6c2",
   "metadata": {},
   "source": [
    "Mark Watney has travelled through the Black Hole. He is now outside Saturn and misses Mars. He wants to use his favorite unit ```pirate-ninja``` to find the power requirement for his suit in units of pirate-ninja. pirate-ninja is defined as one kilowatt-hour (3.6 MJ) per Martian day, or sol. It is equivalent to approximately 40.55 watts. A pirate ninja is defined for you below:"
   ]
  },
  {
   "cell_type": "code",
   "execution_count": null,
   "id": "d3247ea6-d17f-4390-9741-dba5e2a2c070",
   "metadata": {},
   "outputs": [],
   "source": [
    "pirate_ninja = u.def_unit('☠️👤', 1000 * (u.W * u.hr / sol))"
   ]
  },
  {
   "cell_type": "markdown",
   "id": "7491e540-7ab3-4ea8-9554-5d15cb14f88a",
   "metadata": {},
   "source": [
    "Watney uses the pirate_ninja to calcualte his suit's power reqirement below:"
   ]
  },
  {
   "cell_type": "code",
   "execution_count": null,
   "id": "77899602-6004-4e87-99a0-4297a674005f",
   "metadata": {},
   "outputs": [],
   "source": [
    "suit_requirement = 5.2 * pirate_ninja\n",
    "suit_requirement"
   ]
  },
  {
   "cell_type": "markdown",
   "id": "961ef250-dbbe-4991-aa80-9b67942b0686",
   "metadata": {},
   "source": [
    "Convert suit requirement into units of Watts"
   ]
  },
  {
   "cell_type": "code",
   "execution_count": null,
   "id": "3df7ec37-3a94-4f84-bfb9-c676d49bf790",
   "metadata": {},
   "outputs": [],
   "source": []
  },
  {
   "cell_type": "markdown",
   "id": "69af6f65-cda7-4a7b-9afa-a3c27a5a6e23",
   "metadata": {},
   "source": [
    "# Question 2: Where is My Sky?"
   ]
  },
  {
   "cell_type": "markdown",
   "id": "b06968a9-1fdb-4b8e-b915-7f2a79fccabe",
   "metadata": {},
   "source": [
    "Keeping time can be a messy business, but astropy can make it easier! There are many different units that you may need to use, and many different conventions for representing those times, all implemented in astropy. First, we import the Time object and represent a time with a Julian date:"
   ]
  },
  {
   "cell_type": "code",
   "execution_count": null,
   "id": "5ca00a66-2985-4a47-8be8-01467a85b849",
   "metadata": {},
   "outputs": [],
   "source": [
    "from astropy.coordinates import SkyCoord, Distance\n",
    "from astropy.table import QTable\n"
   ]
  },
  {
   "cell_type": "code",
   "execution_count": null,
   "id": "ca1bf8ab-a156-4921-9f2d-1dc71fa92672",
   "metadata": {},
   "outputs": [],
   "source": [
    "from astropy.time import Time\n",
    "t = Time(2455000, format='jd')\n",
    "t"
   ]
  },
  {
   "cell_type": "markdown",
   "id": "6c7af879-b853-4e96-af63-f91bba63b335",
   "metadata": {},
   "source": [
    "In Astropy, the most common way of representing and working with sky coordinates is to use the SkyCoord object. A SkyCoord can be created directly from angles or arrays of angles with associated units, as demonstrated below.\n",
    "\n",
    "To get started, let's assume that we want to create a SkyCoord object for the center of the open cluster NGC 188 so that later we can query and retrieve stars that might be members of the cluster. Let's also assume, for now, that we already know the sky coordinates of the cluster to be (12.11, 85.26) degrees in the ICRS coordinate frame. The ICRS — sometimes referred to as \"equitorial\" or \"J2000\" coordinates — is currently the most common astronomical coordinate frame for stellar or extragalactic astronomy, and is the default coordinate frame for SkyCoord. "
   ]
  },
  {
   "cell_type": "markdown",
   "id": "74a7e7cb-b33e-49d3-98c2-f56bef0e84d7",
   "metadata": {},
   "source": [
    "Create a SkyCoord object for NGC 188 below. Do not use ```SkyCoord.from_name()```:"
   ]
  },
  {
   "cell_type": "code",
   "execution_count": null,
   "id": "aa62bfbe-5917-41e2-abda-5a67531d24b4",
   "metadata": {},
   "outputs": [],
   "source": [
    "..."
   ]
  },
  {
   "cell_type": "markdown",
   "id": "0e75b454-fba5-4c5f-bc68-0dea0896519a",
   "metadata": {},
   "source": [
    "Use ```SkyCoord.from_name()``` now to compare"
   ]
  },
  {
   "cell_type": "code",
   "execution_count": null,
   "id": "4d847c3e-a515-43e2-a481-9c36d909626e",
   "metadata": {},
   "outputs": [],
   "source": [
    "..."
   ]
  },
  {
   "cell_type": "markdown",
   "id": "d274f97e-0cf8-4ecd-a348-f2425c890ebe",
   "metadata": {},
   "source": [
    "Now that we have a SkyCoord object for the center of NGC 188, we can select sources from the Gaia Data Release 2 catalog around this position to try to find stars that might be members of the cluster. To do this, we will use the astroquery.gaia module to query the Gaia data archive. If you do not have astroquery, pip install it below"
   ]
  },
  {
   "cell_type": "code",
   "execution_count": null,
   "id": "fd4428f3-14db-4fa7-b8b8-fcdf626cbb1d",
   "metadata": {},
   "outputs": [],
   "source": [
    "pip install astroquery"
   ]
  },
  {
   "cell_type": "code",
   "execution_count": null,
   "id": "7a62770b-d727-4185-8db5-a828bb4f1268",
   "metadata": {},
   "outputs": [],
   "source": [
    "from astroquery.gaia import Gaia"
   ]
  },
  {
   "cell_type": "code",
   "execution_count": null,
   "id": "d72e7b34-febc-4d2d-adb9-ef227a8e1cc7",
   "metadata": {},
   "outputs": [],
   "source": [
    "# NOTE: skip this cell if you do not have an internet connection\n",
    "\n",
    "job = Gaia.cone_search_async(ngc188_center, radius=0.5*u.deg)\n",
    "table = job.get_results()\n"
   ]
  },
  {
   "cell_type": "code",
   "execution_count": null,
   "id": "4fc59dc4-92bc-4718-8c57-0800e2e359fd",
   "metadata": {},
   "outputs": [],
   "source": [
    "table"
   ]
  },
  {
   "cell_type": "markdown",
   "id": "090c7965-e049-42a4-a89e-96617642b59a",
   "metadata": {},
   "source": [
    "Think back to how we worked with Panda tables and filter the table above. Get a table where the values of ```photo_g_mean_mag``` are below 19 mag."
   ]
  },
  {
   "cell_type": "code",
   "execution_count": null,
   "id": "dd232e7e-7119-435a-8250-96b09681739c",
   "metadata": {},
   "outputs": [],
   "source": [
    "..."
   ]
  },
  {
   "cell_type": "markdown",
   "id": "91b69ab7-e734-4d44-881d-dafd205fe91d",
   "metadata": {},
   "source": [
    "Note that, because the Gaia archive provides data tables with associated units, and we read this table with the QTable objects, the above columns are represented as Quantity objects with units of degrees. Note also that these columns contain many (>5000!) coordinate values. We can pass these directly in to SkyCoord to get a single SkyCoord object to represent all of these coordinates:"
   ]
  },
  {
   "cell_type": "code",
   "execution_count": null,
   "id": "d4bf80ed-df46-44c7-99d4-2621677953bd",
   "metadata": {},
   "outputs": [],
   "source": [
    "gaia_coords = SkyCoord(table['ra'], table['dec'])\n",
    "gaia_coords"
   ]
  },
  {
   "cell_type": "markdown",
   "id": "d36e3651-7e19-4a8c-a75c-3e87beef60d9",
   "metadata": {},
   "source": [
    "Create a SkyCoord of the open cluster The Pleiades. Do this by using ```SkyCoord.from_name() ```"
   ]
  },
  {
   "cell_type": "code",
   "execution_count": null,
   "id": "f1888af4-3335-4c4b-b2f3-5f86602e2ea4",
   "metadata": {},
   "outputs": [],
   "source": [
    "..."
   ]
  },
  {
   "cell_type": "markdown",
   "id": "f52b056f-46a6-434a-b933-5049ebe3d5ad",
   "metadata": {},
   "source": [
    "Using only a single method/function call on the SkyCoord object representing the center of NGC 188, print a string with the RA/Dec in the form 'HH:MM:SS.S DD:MM:SS.S'. \n",
    "\n",
    "Hint: Use ```SkyCoord.to_string() ```\n"
   ]
  },
  {
   "cell_type": "code",
   "execution_count": null,
   "id": "115c3808-192b-4256-9093-d432d02807fc",
   "metadata": {},
   "outputs": [],
   "source": [
    "..."
   ]
  },
  {
   "cell_type": "markdown",
   "id": "9fe83306-0bc0-4006-b278-40adfddcf0a0",
   "metadata": {},
   "source": [
    "Using a single method/function call on the SkyCoord object containing the results of our Gaia query, compute the angular separation between each resulting star and the coordinates of the cluster center.\n",
    "\n",
    "Hint: Use ```SkyCoord.separation()```"
   ]
  },
  {
   "cell_type": "code",
   "execution_count": null,
   "id": "a75ce84f-160a-423d-b9ac-8a5fc0968260",
   "metadata": {},
   "outputs": [],
   "source": [
    "..."
   ]
  },
  {
   "cell_type": "markdown",
   "id": "3f129a5f-6e80-47ae-90f7-cb368ca4f28e",
   "metadata": {},
   "source": [
    "# Astropy Further Resources\n",
    "\n",
    "https://learn.astropy.org/"
   ]
  },
  {
   "cell_type": "code",
   "execution_count": null,
   "id": "2a09abbc-3319-4deb-9248-9ffd9ddfb576",
   "metadata": {},
   "outputs": [],
   "source": []
  }
 ],
 "metadata": {
  "kernelspec": {
   "display_name": "Python 3",
   "language": "python",
   "name": "python3"
  },
  "language_info": {
   "codemirror_mode": {
    "name": "ipython",
    "version": 3
   },
   "file_extension": ".py",
   "mimetype": "text/x-python",
   "name": "python",
   "nbconvert_exporter": "python",
   "pygments_lexer": "ipython3",
   "version": "3.8.8"
  }
 },
 "nbformat": 4,
 "nbformat_minor": 5
}
