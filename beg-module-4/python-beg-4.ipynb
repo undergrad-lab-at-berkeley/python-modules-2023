{
 "cells": [
  {
   "cell_type": "markdown",
   "metadata": {},
   "source": [
    "# ULAB Physics & Astronomy: Python Module IV"
   ]
  },
  {
   "cell_type": "code",
   "execution_count": 1,
   "metadata": {
    "ExecuteTime": {
     "end_time": "2021-07-17T20:42:41.300034Z",
     "start_time": "2021-07-17T20:42:40.950968Z"
    }
   },
   "outputs": [],
   "source": [
    "%load_ext autoreload\n",
    "%autoreload 2\n",
    "import tests"
   ]
  },
  {
   "cell_type": "markdown",
   "metadata": {},
   "source": [
    "#### Start this module early! It helps to thoroughly understand each part before moving forward!"
   ]
  },
  {
   "cell_type": "markdown",
   "metadata": {},
   "source": [
    "## Imports and Installation\n",
    "\n",
    "`import` tells Python to get code from somewhere else - either the directory you're already in, or a predetermined path where packages go. Importing allows you to build on code someone else wrote and avoid rewritting code that is already well established (e.g. the ```exp``` function in the built-in ```math``` module).\n",
    "\n",
    "### Local Imports\n",
    "\n",
    "To start we'll import code from from the file `utils.py` which is located in the local directory (the folder this Jupyter notebook is located). It's also possible to specify imports from a subdirectory or from one level 'up' from where we are, but we won't discuss that at the moment.\n",
    "\n",
    "This file contains some functions, of which we only care about two for now: `fibonacci` and `factorial`. Note that both of these functions have docstrings!"
   ]
  },
  {
   "cell_type": "code",
   "execution_count": 2,
   "metadata": {
    "ExecuteTime": {
     "end_time": "2021-07-17T20:42:42.516178Z",
     "start_time": "2021-07-17T20:42:42.110556Z"
    }
   },
   "outputs": [],
   "source": [
    "import utils"
   ]
  },
  {
   "cell_type": "markdown",
   "metadata": {},
   "source": [
    "We now have these two functions accessible to us under the `utils` namespace. In order to reference the `fibonacci` or `factorial` functions we have to specify that they from `utils` using the syntax `utils.function_name`. (This is so that there is no ambiguity with two modules with the same function name!)"
   ]
  },
  {
   "cell_type": "code",
   "execution_count": 3,
   "metadata": {
    "ExecuteTime": {
     "end_time": "2021-07-17T20:42:42.585540Z",
     "start_time": "2021-07-17T20:42:42.519456Z"
    }
   },
   "outputs": [
    {
     "data": {
      "text/plain": [
       "6"
      ]
     },
     "execution_count": 3,
     "metadata": {},
     "output_type": "execute_result"
    }
   ],
   "source": [
    "utils.factorial(3)"
   ]
  },
  {
   "cell_type": "markdown",
   "metadata": {},
   "source": [
    "Read the docstring of the ```fibonacci``` and ```factorial``` functions! (Hint: select shift-tab-tab with your cursor located ```utils.fibonacci(|)```). You can alternatively use the `help` function: `help(utils.factorial)`."
   ]
  },
  {
   "cell_type": "code",
   "execution_count": null,
   "metadata": {
    "ExecuteTime": {
     "end_time": "2021-07-17T20:42:43.028780Z",
     "start_time": "2021-07-17T20:42:42.694712Z"
    }
   },
   "outputs": [],
   "source": [
    "utils.fibonacci()"
   ]
  },
  {
   "cell_type": "markdown",
   "metadata": {},
   "source": [
    "It's cumbersome to keep specifying `utils`, so we can also import functions directly and call them without referencing their namespace."
   ]
  },
  {
   "cell_type": "code",
   "execution_count": null,
   "metadata": {
    "ExecuteTime": {
     "end_time": "2021-07-17T20:42:43.034233Z",
     "start_time": "2021-07-17T20:42:42.979Z"
    }
   },
   "outputs": [],
   "source": [
    "from utils import fibonacci, factorial\n",
    "\n",
    "# if \"x is y\", then x and y refer to the same object\n",
    "factorial is utils.factorial"
   ]
  },
  {
   "cell_type": "markdown",
   "metadata": {},
   "source": [
    "### External imports\n",
    "\n",
    "This is when we're importing code from somewhere other than our local directory. Python has a hidden path where it stores all of its packages, but we won't interact with that: instead, we'll interact with `pip`, a tool we've been using to get the utilities to run these modules!\n",
    "\n",
    "As long as a Python package is registered on `pip`, we can install it by running `pip install <package_name>` from terminal, or in a Jupyter notebook if preceded by an exclamation mark:"
   ]
  },
  {
   "cell_type": "code",
   "execution_count": null,
   "metadata": {
    "ExecuteTime": {
     "end_time": "2021-07-17T20:42:47.783198Z",
     "start_time": "2021-07-17T20:42:43.314455Z"
    },
    "scrolled": true
   },
   "outputs": [],
   "source": [
    "!pip install pandas"
   ]
  },
  {
   "cell_type": "markdown",
   "metadata": {},
   "source": [
    "This allows us to import the package `pandas` and work with it in the exact same way we were working with `utils` above. Note that sometimes we give packages shorter names while we're working with them (\"aliases\") so that we can make our code more brief: in this case, `pandas` is given the alias `pd`."
   ]
  },
  {
   "cell_type": "code",
   "execution_count": null,
   "metadata": {
    "ExecuteTime": {
     "end_time": "2021-07-17T20:42:48.975762Z",
     "start_time": "2021-07-17T20:42:47.789235Z"
    }
   },
   "outputs": [],
   "source": [
    "# We'll discuss the pandas package soon!\n",
    "# If you have pandas installed, this line will run without error!\n",
    "import pandas as pd"
   ]
  },
  {
   "cell_type": "markdown",
   "metadata": {},
   "source": [
    "We can also `uninstall` packages, but that can't be done from a Jupyter notebook. Ideally you should be running `pip` commands from the terminal. For a full list of `pip` functionality, see [here](https://pip.pypa.io/en/stable/user_guide/)."
   ]
  },
  {
   "cell_type": "markdown",
   "metadata": {},
   "source": [
    "## Question 0 (10 pts)\n",
    "\n",
    "Using `pip`, install the package `numpy`. Then import `numpy` and give it the alias `np`. "
   ]
  },
  {
   "cell_type": "code",
   "execution_count": null,
   "metadata": {
    "ExecuteTime": {
     "end_time": "2021-07-17T20:42:52.160783Z",
     "start_time": "2021-07-17T20:42:48.980274Z"
    }
   },
   "outputs": [],
   "source": [
    "#use this cell for installation"
   ]
  },
  {
   "cell_type": "code",
   "execution_count": null,
   "metadata": {},
   "outputs": [],
   "source": [
    "#use this cell for importing"
   ]
  },
  {
   "cell_type": "markdown",
   "metadata": {},
   "source": [
    "`numpy` also has a factorial function. Read the `numpy` documentation to determine how to access this function. Finally, run both this function and `util.factorial` for some input, and show that you get the same result!"
   ]
  },
  {
   "cell_type": "code",
   "execution_count": null,
   "metadata": {
    "ExecuteTime": {
     "end_time": "2021-07-17T20:42:52.228720Z",
     "start_time": "2021-07-17T20:42:52.166745Z"
    }
   },
   "outputs": [],
   "source": [
    "f = ...\n",
    "print(...)\n",
    "print(...)"
   ]
  },
  {
   "cell_type": "markdown",
   "metadata": {},
   "source": [
    "## Lists and list comprehensions\n",
    "\n",
    "As we saw in lecture, we can put any kind of data into a list by placing square brackets `[]` around it, and we can *index into* it by specifying the position of the element we want."
   ]
  },
  {
   "cell_type": "code",
   "execution_count": null,
   "metadata": {
    "ExecuteTime": {
     "end_time": "2021-07-17T20:42:52.268229Z",
     "start_time": "2021-07-17T20:42:52.233138Z"
    }
   },
   "outputs": [],
   "source": [
    "letters = ['a', 'b', 'c', 'd']\n",
    "letters[2]"
   ]
  },
  {
   "cell_type": "markdown",
   "metadata": {},
   "source": [
    "Use the cell below to display 'd'. What does letters[2] display? What does this tell you about the indexing of lists? "
   ]
  },
  {
   "cell_type": "code",
   "execution_count": null,
   "metadata": {},
   "outputs": [],
   "source": [
    "#display 'd'"
   ]
  },
  {
   "cell_type": "markdown",
   "metadata": {},
   "source": [
    "Lists have their own notion of \"adding\" and \"multiplying\": you can add lists to one another, and you can multiply a list by a number to repeat it."
   ]
  },
  {
   "cell_type": "code",
   "execution_count": null,
   "metadata": {
    "ExecuteTime": {
     "end_time": "2021-07-17T20:42:52.396960Z",
     "start_time": "2021-07-17T20:42:52.271347Z"
    }
   },
   "outputs": [],
   "source": [
    "more_letters = ['f', 'g', 'f', 'g', 'h']\n",
    "print(\"Added lists:       \", letters + more_letters)\n",
    "print(\"Multiplied lists:  \", letters * 3)"
   ]
  },
  {
   "cell_type": "code",
   "execution_count": null,
   "metadata": {},
   "outputs": [],
   "source": [
    "#use this cell to display 'hihihihihi'"
   ]
  },
  {
   "cell_type": "markdown",
   "metadata": {},
   "source": [
    "Note that these operations don't change the original lists; if we want to do that, we can either assign the result to the original name like we would any other variable, or we can use certain in-built list methods. We'll cover four of these methods: `append`, `extend`, `remove`, and `index`.\n",
    "\n",
    "1. `append` adds an item to the end of a list.\n",
    "2. `extend` puts all the elements of another list onto a list\n",
    "3. `index` finds the position of an element we want in the list.\n",
    "4. `remove` removes an item from a list.\n",
    "\n",
    "Let's look at how to use all four!"
   ]
  },
  {
   "cell_type": "code",
   "execution_count": null,
   "metadata": {
    "ExecuteTime": {
     "end_time": "2021-07-17T20:42:52.522337Z",
     "start_time": "2021-07-17T20:42:52.417380Z"
    }
   },
   "outputs": [],
   "source": [
    "letters = ['a', 'b', 'c', 'd']\n",
    "print(letters)"
   ]
  },
  {
   "cell_type": "code",
   "execution_count": null,
   "metadata": {},
   "outputs": [],
   "source": [
    "# add 'e' to the existing letters list\n",
    "letters.append('e')\n",
    "print(letters)"
   ]
  },
  {
   "cell_type": "code",
   "execution_count": null,
   "metadata": {},
   "outputs": [],
   "source": [
    "# place all the elements of more_letters list at the end of the `letters` list\n",
    "letters.extend(more_letters)\n",
    "print(letters)"
   ]
  },
  {
   "cell_type": "code",
   "execution_count": null,
   "metadata": {},
   "outputs": [],
   "source": [
    "# find the first instance of the letter 'f' in letters\n",
    "idx = letters.index('f')\n",
    "print(idx)"
   ]
  },
  {
   "cell_type": "code",
   "execution_count": null,
   "metadata": {},
   "outputs": [],
   "source": [
    "# remove the first instance of the letter 'f' in 'letters'\n",
    "letters.remove('f')\n",
    "print(letters)"
   ]
  },
  {
   "cell_type": "markdown",
   "metadata": {},
   "source": [
    "Another useful feature is we can check whether a list has a certain value with the keyword `in`:"
   ]
  },
  {
   "cell_type": "code",
   "execution_count": null,
   "metadata": {
    "ExecuteTime": {
     "end_time": "2021-07-17T20:42:52.634545Z",
     "start_time": "2021-07-17T20:42:52.534649Z"
    }
   },
   "outputs": [],
   "source": [
    "print('d' in letters)\n",
    "print('q' in letters)"
   ]
  },
  {
   "cell_type": "markdown",
   "metadata": {},
   "source": [
    "#### Feel free to play around with the cells above! Change the lists and the elements and make sure your understanding of list operations is clear before you move on."
   ]
  },
  {
   "cell_type": "markdown",
   "metadata": {},
   "source": [
    "## Question 1 (10 pts)\n",
    "\n",
    "Write a function `remove_second` that takes in a list `lst`, and returns a version of `lst` with the _second_ instance of the item `item` removed. (Hint: find the first instance, then only look after that.) If `lst` does not have two instances of `item`, raise a `ValueError`.\n",
    "\n",
    "For example, \n",
    "`remove_second([1, 2, 3, 3, 4, 3, 3], 3)` returns `[1, 2, 3, 4, 3, 3]` while `remove_second([1, 2, 3, 3, 4, 3, 3], 2)` raises a `ValueError`"
   ]
  },
  {
   "cell_type": "code",
   "execution_count": null,
   "metadata": {
    "ExecuteTime": {
     "end_time": "2021-07-17T20:42:52.730412Z",
     "start_time": "2021-07-17T20:42:52.652854Z"
    }
   },
   "outputs": [],
   "source": [
    "def remove_second(lst, item):\n",
    "    ...\n",
    "    return ..."
   ]
  },
  {
   "cell_type": "code",
   "execution_count": null,
   "metadata": {
    "ExecuteTime": {
     "end_time": "2021-07-17T20:43:11.082763Z",
     "start_time": "2021-07-17T20:43:11.040737Z"
    }
   },
   "outputs": [],
   "source": [
    "tests.run('test_1', remove_second)"
   ]
  },
  {
   "cell_type": "markdown",
   "metadata": {},
   "source": [
    "## List Comprehensions\n",
    "\n",
    "Another useful construction is the *list comprehension*, which allows us to create a list by performing some operation to every element of an initial list or `range`. For example, this is a list comprehension that determines the square of every number from 0-9:"
   ]
  },
  {
   "cell_type": "code",
   "execution_count": null,
   "metadata": {},
   "outputs": [],
   "source": [
    "#note how this cell and the following cell print the same output\n",
    "squares1 = []\n",
    "for x in range(10):\n",
    "    squares1.append(x**2)\n",
    "print(squares1)"
   ]
  },
  {
   "cell_type": "code",
   "execution_count": null,
   "metadata": {
    "ExecuteTime": {
     "end_time": "2021-07-17T20:42:52.970448Z",
     "start_time": "2021-07-17T20:42:46.652Z"
    }
   },
   "outputs": [],
   "source": [
    "squares = [x ** 2 for x in range(10)]\n",
    "print(squares)"
   ]
  },
  {
   "cell_type": "markdown",
   "metadata": {},
   "source": [
    "We can also put a conditional statement in a list comprehension! For example, here we use it to get only the squares of only the odd integers 0-9:"
   ]
  },
  {
   "cell_type": "code",
   "execution_count": null,
   "metadata": {
    "ExecuteTime": {
     "end_time": "2021-07-17T20:42:52.978784Z",
     "start_time": "2021-07-17T20:42:47.116Z"
    }
   },
   "outputs": [],
   "source": [
    "odd_squares = [x ** 2 for x in range(10) if x % 2 == 1]\n",
    "print(odd_squares)"
   ]
  },
  {
   "cell_type": "markdown",
   "metadata": {},
   "source": [
    "Note that if you find yourself writing `[x for x in ...]` it's simpler to just write `list(...)`:"
   ]
  },
  {
   "cell_type": "code",
   "execution_count": null,
   "metadata": {
    "ExecuteTime": {
     "end_time": "2021-07-17T20:42:52.984581Z",
     "start_time": "2021-07-17T20:42:47.530Z"
    }
   },
   "outputs": [],
   "source": [
    "print([x for x in range(5)])\n",
    "print(list(range(5)))"
   ]
  },
  {
   "cell_type": "markdown",
   "metadata": {},
   "source": [
    "## Question 2 (5 pts)\n",
    "The function `ord` converts characters to numbers with an offset such that ord('a') = 97, ord('b') = 98, etc. Write a list comprehension that uses `ord` and returns the numeric conversion of the English vowels (a, e, i, o, u) **without the offset** ('a'=1, 'b'=2, etc)."
   ]
  },
  {
   "cell_type": "code",
   "execution_count": null,
   "metadata": {},
   "outputs": [],
   "source": [
    "#use this cell to explore how ord works!"
   ]
  },
  {
   "cell_type": "code",
   "execution_count": null,
   "metadata": {
    "ExecuteTime": {
     "end_time": "2021-07-17T20:43:06.487943Z",
     "start_time": "2021-07-17T20:43:06.445487Z"
    }
   },
   "outputs": [],
   "source": [
    "vowels_to_numbers = ...\n",
    "print(vowels_to_numbers)"
   ]
  },
  {
   "cell_type": "code",
   "execution_count": null,
   "metadata": {
    "ExecuteTime": {
     "end_time": "2021-07-17T20:43:06.936585Z",
     "start_time": "2021-07-17T20:43:06.888844Z"
    }
   },
   "outputs": [],
   "source": [
    "tests.run('test_2', vowels_to_numbers)"
   ]
  },
  {
   "cell_type": "markdown",
   "metadata": {},
   "source": [
    "## Question 3 (5 pts)\n",
    "\n",
    "We've now got the tools to do a bit of real-life data processing! The function `get_planets` in `utils` (which we already imported!) downloads the catalog of known exoplanets and exoplanet candidates from NASA's Exoplanet Archive."
   ]
  },
  {
   "cell_type": "code",
   "execution_count": null,
   "metadata": {
    "ExecuteTime": {
     "end_time": "2021-07-17T20:53:55.854859Z",
     "start_time": "2021-07-17T20:53:37.640435Z"
    }
   },
   "outputs": [],
   "source": [
    "# this cell might take 10 seconds or so, as it's getting the data from the NASA website\n",
    "planets = utils.get_planets()\n",
    "planets_df = pd.read_csv(planets) # remember when we did \"import pandas as pd\" above? it's back!"
   ]
  },
  {
   "cell_type": "code",
   "execution_count": null,
   "metadata": {
    "ExecuteTime": {
     "end_time": "2021-07-17T20:53:58.562732Z",
     "start_time": "2021-07-17T20:53:58.409339Z"
    }
   },
   "outputs": [],
   "source": [
    "planets_df"
   ]
  },
  {
   "cell_type": "markdown",
   "metadata": {},
   "source": [
    "This is a `pandas.DataFrame` which is beyond our scope for now. What we care about is the columns in this table, which is just a list of strings:"
   ]
  },
  {
   "cell_type": "code",
   "execution_count": null,
   "metadata": {
    "ExecuteTime": {
     "end_time": "2021-07-17T20:54:19.181416Z",
     "start_time": "2021-07-17T20:54:19.111488Z"
    }
   },
   "outputs": [],
   "source": [
    "cols = list(planets_df.columns)\n",
    "cols"
   ]
  },
  {
   "cell_type": "markdown",
   "metadata": {},
   "source": [
    "This tells us that the data we have includes a number of parameters, and their associated errors. Suppose we're only interested in the errors on planet parameters, i.e. the column names that start with `koi` and end with `err` (there's also `err1` and `err2` in some of these, but let's ignore that.) \n",
    "\n",
    "In the following cell, generate a list of column names `planet_errs` that satisfy the condition above."
   ]
  },
  {
   "cell_type": "code",
   "execution_count": null,
   "metadata": {
    "ExecuteTime": {
     "end_time": "2021-07-17T20:55:41.401118Z",
     "start_time": "2021-07-17T20:55:41.163026Z"
    }
   },
   "outputs": [],
   "source": [
    "# what condition do you need to meet?\n",
    "# remember that you can index into strings just like lists! \n",
    "#'hello'[:2] = 'he'\n",
    "planet_errs = ...\n",
    "print(planet_errs)"
   ]
  },
  {
   "cell_type": "code",
   "execution_count": null,
   "metadata": {
    "ExecuteTime": {
     "end_time": "2021-07-17T20:55:56.922285Z",
     "start_time": "2021-07-17T20:55:56.867763Z"
    }
   },
   "outputs": [],
   "source": [
    "tests.run('test_3', planet_errs)"
   ]
  },
  {
   "cell_type": "markdown",
   "metadata": {},
   "source": [
    "## Question 4 (5 pts)\n",
    "\n",
    "Now let's also take a look at the actual data! The column `koi_prad` contains the planet radii, in units of Earth radii. How many planets here are smaller than or the same size as the Earth? The cell below provides you with a list of `float`s, each of which is one planet's radius. Try and do this in a list comprehension!"
   ]
  },
  {
   "cell_type": "code",
   "execution_count": null,
   "metadata": {
    "ExecuteTime": {
     "end_time": "2021-07-17T20:58:30.511266Z",
     "start_time": "2021-07-17T20:58:30.468027Z"
    }
   },
   "outputs": [],
   "source": [
    "# this generates the list of radii\n",
    "# you do not have to edit, but try and figure out how it works!\n",
    "raw_radii = planets_df.koi_prad.values\n",
    "radii = list(raw_radii[~np.isnan(raw_radii)])"
   ]
  },
  {
   "cell_type": "code",
   "execution_count": null,
   "metadata": {
    "ExecuteTime": {
     "end_time": "2021-07-17T20:58:35.643265Z",
     "start_time": "2021-07-17T20:58:35.568651Z"
    }
   },
   "outputs": [],
   "source": [
    "# count the number of planets with radius <= 1 earth radius\n",
    "small_planets_count = ..."
   ]
  },
  {
   "cell_type": "code",
   "execution_count": null,
   "metadata": {
    "ExecuteTime": {
     "end_time": "2021-07-17T20:59:17.696899Z",
     "start_time": "2021-07-17T20:59:17.576641Z"
    }
   },
   "outputs": [],
   "source": [
    "tests.run('test_4', small_planets_count)"
   ]
  },
  {
   "cell_type": "markdown",
   "metadata": {},
   "source": [
    "## Dictionaries\n",
    "\n",
    "Dictionaries encode mappings between \"keys\" and \"values\":"
   ]
  },
  {
   "cell_type": "code",
   "execution_count": null,
   "metadata": {},
   "outputs": [],
   "source": [
    "d = {\"a\" : 1, \"b\" : 2}"
   ]
  },
  {
   "cell_type": "markdown",
   "metadata": {},
   "source": [
    "We can add an item to a dictionary:"
   ]
  },
  {
   "cell_type": "code",
   "execution_count": null,
   "metadata": {},
   "outputs": [],
   "source": [
    "d[\"c\"] = 3"
   ]
  },
  {
   "cell_type": "markdown",
   "metadata": {},
   "source": [
    "We can access the value by querying the dictionary with the key:"
   ]
  },
  {
   "cell_type": "code",
   "execution_count": null,
   "metadata": {},
   "outputs": [],
   "source": [
    "d[\"a\"] + d[\"b\"]"
   ]
  },
  {
   "cell_type": "markdown",
   "metadata": {},
   "source": [
    "The full list of functions that can be used with dictionaries can be found [here](https://docs.python.org/3/tutorial/datastructures.html#dictionaries). A noteworthy feature is that we can define a dictionary using the syntax of list comprehensions. Below, we map the key $x$ to it's square  $x^2$."
   ]
  },
  {
   "cell_type": "code",
   "execution_count": null,
   "metadata": {
    "ExecuteTime": {
     "end_time": "2021-07-17T21:02:23.074041Z",
     "start_time": "2021-07-17T21:02:22.939128Z"
    }
   },
   "outputs": [],
   "source": [
    "squares_lookup = {x : x ** 2 for x in range(10)}\n",
    "squares_lookup"
   ]
  },
  {
   "cell_type": "markdown",
   "metadata": {},
   "source": [
    "One of the most common uses of dictionaries is to save results of previous computations that we might use again. For example, let's revisit the Fibonacci computation! The following function gets the $n$th Fibonacci number, but slowly (it's recursive!)."
   ]
  },
  {
   "cell_type": "code",
   "execution_count": null,
   "metadata": {
    "ExecuteTime": {
     "end_time": "2021-07-17T21:03:10.960144Z",
     "start_time": "2021-07-17T21:03:10.913638Z"
    }
   },
   "outputs": [],
   "source": [
    "def fib_slow(n):\n",
    "    if n < 2:\n",
    "        return n\n",
    "    return fib_slow(n - 1) + fib_slow(n - 2)"
   ]
  },
  {
   "cell_type": "code",
   "execution_count": null,
   "metadata": {
    "ExecuteTime": {
     "end_time": "2021-07-17T21:03:11.468165Z",
     "start_time": "2021-07-17T21:03:11.427087Z"
    }
   },
   "outputs": [],
   "source": [
    "fib_slow(8) == utils.fibonacci(8)"
   ]
  },
  {
   "cell_type": "markdown",
   "metadata": {},
   "source": [
    "Why did we call this `fib_slow`? Well, just look at how long this takes:"
   ]
  },
  {
   "cell_type": "code",
   "execution_count": null,
   "metadata": {
    "ExecuteTime": {
     "end_time": "2021-07-17T21:03:21.089920Z",
     "start_time": "2021-07-17T21:03:16.597941Z"
    }
   },
   "outputs": [],
   "source": [
    "fib_slow(35)"
   ]
  },
  {
   "cell_type": "markdown",
   "metadata": {},
   "source": [
    "## Question 5 (15 pts)\n",
    "\n",
    "Let's try and speed this up! One key feature of the Fibonacci computation is it depends only on a few previous results: that is, if you know `fib(33)` and `fib(34)`, you can get `fib(35)` without having to calculate`fib(1)`...`fib(35)`, which is what `fib_slow` is doing right now. We'd like to add **memory** to our computation."
   ]
  },
  {
   "cell_type": "markdown",
   "metadata": {},
   "source": [
    "Let's examine an outline for such a function `fib_fast` with a dictionary of `fib_values`:\n",
    "\n",
    "- if the dictionary `fib_values` contains the key $n$:\n",
    "  - look up `fib(n)` in `fib_values`\n",
    "  - return the result\n",
    "- otherwise:\n",
    "  - compute `fib_fast(n)` as in `fib_slow`\n",
    "  - save the result to `fib_values`\n",
    "  - return the result\n",
    "\n",
    "Syntax tip: dictionaries have the same `item in dictionary` syntax as lists, to check whether a key is present in the dictionary.\n",
    "\n",
    "Hint: each bullet point corresponds to a single line of code."
   ]
  },
  {
   "cell_type": "code",
   "execution_count": null,
   "metadata": {
    "ExecuteTime": {
     "end_time": "2021-07-18T01:20:02.911708Z",
     "start_time": "2021-07-18T01:20:02.893836Z"
    }
   },
   "outputs": [],
   "source": [
    "fib_values = {0: 0, 1: 1}\n",
    "\n",
    "def fib_fast(n):\n",
    "    ...\n",
    "    return "
   ]
  },
  {
   "cell_type": "markdown",
   "metadata": {},
   "source": [
    "Now, run the cells below: the cell with `fib_fast(35)` should still be slow, because we haven't saved anything yet, but then we see that `fib_values` has been filled out because we ran `fib_fast(35)`! So in the third cell, `fib_fast(37)` is only doing a little bit of extra work, and so it's much faster!"
   ]
  },
  {
   "cell_type": "code",
   "execution_count": null,
   "metadata": {
    "ExecuteTime": {
     "end_time": "2021-07-18T01:20:04.475795Z",
     "start_time": "2021-07-18T01:20:04.450882Z"
    }
   },
   "outputs": [],
   "source": [
    "fib_fast(35)"
   ]
  },
  {
   "cell_type": "code",
   "execution_count": null,
   "metadata": {
    "ExecuteTime": {
     "end_time": "2021-07-18T01:20:06.556021Z",
     "start_time": "2021-07-18T01:20:06.500302Z"
    }
   },
   "outputs": [],
   "source": [
    "fib_values"
   ]
  },
  {
   "cell_type": "code",
   "execution_count": null,
   "metadata": {
    "ExecuteTime": {
     "end_time": "2021-07-18T01:20:08.940030Z",
     "start_time": "2021-07-18T01:20:08.917667Z"
    }
   },
   "outputs": [],
   "source": [
    "fib_fast(37)"
   ]
  },
  {
   "cell_type": "markdown",
   "metadata": {},
   "source": [
    "## Submission\n",
    "\n",
    "Check to make sure that you have answered all questions. Run all the cells so that all output is visible. Finally, export this notebook as a PDF (File/Download As/PDF via LaTeX (.pdf)) and submit to bCourses."
   ]
  },
  {
   "cell_type": "markdown",
   "metadata": {},
   "source": [
    "<b>References:</b> Based off of work inspired by <i>Computational and Inferential Thinking</i> and the Data 8 course material: Professors Ani Adhikari, John DeNero, and the Data 8 staff. Edited and complied by the ULAB staff. \n",
    "\n",
    "1. https://dbader.org/blog/python-memoization\n",
    "2. https://dfm.io/posts/exopop/\n",
    "\n",
    "Last Updated: July 2021"
   ]
  }
 ],
 "metadata": {
  "kernelspec": {
   "display_name": "Python 3",
   "language": "python",
   "name": "python3"
  },
  "language_info": {
   "codemirror_mode": {
    "name": "ipython",
    "version": 3
   },
   "file_extension": ".py",
   "mimetype": "text/x-python",
   "name": "python",
   "nbconvert_exporter": "python",
   "pygments_lexer": "ipython3",
   "version": "3.8.8"
  }
 },
 "nbformat": 4,
 "nbformat_minor": 2
}
