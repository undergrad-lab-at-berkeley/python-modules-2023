{
 "cells": [
  {
   "cell_type": "markdown",
   "metadata": {},
   "source": [
    "# ULAB Physics & Astronomy: Python Module II"
   ]
  },
  {
   "cell_type": "markdown",
   "metadata": {},
   "source": [
    "#### Setup: on the terminal, run the command ```pip install -r requirements.txt```"
   ]
  },
  {
   "cell_type": "code",
   "execution_count": 1,
   "metadata": {
    "ExecuteTime": {
     "end_time": "2021-10-02T22:51:28.907570Z",
     "start_time": "2021-10-02T22:51:28.536239Z"
    },
    "scrolled": true
   },
   "outputs": [],
   "source": [
    "# don't worry about this bit of code, just a bit of line magic!\n",
    "%load_ext autoreload\n",
    "%autoreload 2\n",
    "\n",
    "# importing unittests\n",
    "import tests"
   ]
  },
  {
   "cell_type": "markdown",
   "metadata": {},
   "source": [
    "## Review: What is Jupyter?\n",
    "*From the Jupyter documentation:* \"First and foremost, the Jupyter Notebook is **an interactive environment for writing and running code** (an IDE!). Jupyter is capable of running code in a wide range of languages. However, each notebook is associated with a single kernel. This notebook is associated with the IPython kernel, and, therefore runs Python code.\"\n",
    "\n",
    "### Jupyter vs. the Command Line\n",
    "Python is also commonly run on the command line (to test this out: open the terminal and type `python3` to launch the interactive Python interpreter). We prefer to use Jupyter Notebook because of it's friendlier interface and the ability to have plain text, LaTeX, images, and even videos on the same screen as your code. \n",
    "\n",
    "Unlike a Python script, which is a continuous \"block\" of code, Jupyter Notebooks are split up into **cells** of code that can be run independently.\n",
    "\n",
    "### What are Cells?\n",
    "Cells are the modular pieces that make up a Jupyter Notebook. Cells primarily come in two types (although there are more): **Code** and **Markdown**. The cell that you are currently looking at is a markdown cell: it displays plain text. A code cell, as the name suggests, contains code that can be executed. You've seen two of them at the top of the page; they executed commands to set up this Python Module.\n",
    "\n",
    "There are two ways to interact with cells:\n",
    "\n",
    "**Command Mode:** Press `Esc`, notice the cell outline will turn blue.  <br>\n",
    "**Edit Mode:** Press `Enter`, or double-click on a cell. Notice it will now have a green outline. As the name suggests, this is the mode to be in if you want to edit the contents of individual cells.<br>\n",
    "<br>**Common Shortcuts**<br>\n",
    "* `Ctrl-Enter`: Run current cell\n",
    "* `Shift-Enter`: Run current cell, and select cell below\n",
    "* `H`: Show all keyboard shortcuts\n",
    "\n",
    "Double click this cell to see the markdown code. Press shift-enter to render the markdown.<br>\n",
    "\n",
    "### What is the kernel?\n",
    "Another term that pops up often is the kernel. The IPython kernel is the \"'computational engine' that executes the code contained in a Notebook document.\" You can think of it as the active process that is processing all of the Notebook's activity. Included in this IPython kernel is a Python interpreter to actually run your code. **The IPython kernel is very different from the kernel we've been talking about in lecture!**"
   ]
  },
  {
   "cell_type": "markdown",
   "metadata": {},
   "source": [
    "## Question 0 (5 pts)\n",
    "\n",
    "The code in the cell below runs in an infinite loop. While there are applications where this is useful, much of the time, infinite loops are problematic. Jupyter notebook will be stuck continuously looping and unable to run any other cells. An external influence is needed to \"pull the plug\". In Jupyter's case, you can interrupt the kernel by pressing the `Interrupt` (black square) button above.<br><br>\n",
    "Run the next cell and then interrupt the kernel. You should see a KeyboardInterrupt error!"
   ]
  },
  {
   "cell_type": "code",
   "execution_count": 2,
   "metadata": {
    "ExecuteTime": {
     "end_time": "2021-07-17T20:15:05.614770Z",
     "start_time": "2021-07-17T20:15:03.951903Z"
    }
   },
   "outputs": [
    {
     "name": "stdout",
     "output_type": "stream",
     "text": [
      "running\n",
      "running\n",
      "running\n",
      "running\n",
      "running\n"
     ]
    },
    {
     "ename": "KeyboardInterrupt",
     "evalue": "",
     "output_type": "error",
     "traceback": [
      "\u001b[0;31m---------------------------------------------------------------------------\u001b[0m",
      "\u001b[0;31mKeyboardInterrupt\u001b[0m                         Traceback (most recent call last)",
      "\u001b[0;32m<ipython-input-2-f377f9d50be4>\u001b[0m in \u001b[0;36m<module>\u001b[0;34m\u001b[0m\n\u001b[1;32m      2\u001b[0m \u001b[0;32mwhile\u001b[0m \u001b[0;32mTrue\u001b[0m\u001b[0;34m:\u001b[0m\u001b[0;34m\u001b[0m\u001b[0;34m\u001b[0m\u001b[0m\n\u001b[1;32m      3\u001b[0m     \u001b[0mprint\u001b[0m\u001b[0;34m(\u001b[0m\u001b[0;34m'running'\u001b[0m\u001b[0;34m)\u001b[0m\u001b[0;34m\u001b[0m\u001b[0;34m\u001b[0m\u001b[0m\n\u001b[0;32m----> 4\u001b[0;31m     \u001b[0mtime\u001b[0m\u001b[0;34m.\u001b[0m\u001b[0msleep\u001b[0m\u001b[0;34m(\u001b[0m\u001b[0;36m1\u001b[0m\u001b[0;34m)\u001b[0m\u001b[0;34m\u001b[0m\u001b[0;34m\u001b[0m\u001b[0m\n\u001b[0m",
      "\u001b[0;31mKeyboardInterrupt\u001b[0m: "
     ]
    }
   ],
   "source": [
    "import time\n",
    "while True:\n",
    "    print('running')\n",
    "    time.sleep(1)"
   ]
  },
  {
   "cell_type": "markdown",
   "metadata": {
    "ExecuteTime": {
     "end_time": "2020-07-11T00:35:31.072629Z",
     "start_time": "2020-07-11T00:35:31.067234Z"
    }
   },
   "source": [
    "If you encounter any bizarre errors, restarting the kernel is the equivalent of 'turning Jupyter off and on again'. \n",
    "__*Note that restarting the kernel will lose variable values and data! This means that if you close Jupyter notebook and return sometime later, when you return, you'll need to re-run the cells you've already completed. There are a number of useful options in the Cell tab to help you with this.*__\n",
    "<br><br>"
   ]
  },
  {
   "cell_type": "markdown",
   "metadata": {},
   "source": [
    "## Question 1 (5 pts)\n",
    "\n",
    "One of the most basic functions of a programming language is computing mathematical expressions. In the cell below, calculate the value of $[(2^3\\cdot 5)+3]\\cdot 47$ and set your answer to the value of variable `ans`. Print your answer to the screen using the print function."
   ]
  },
  {
   "cell_type": "code",
   "execution_count": 3,
   "metadata": {
    "ExecuteTime": {
     "end_time": "2021-10-02T22:52:22.693750Z",
     "start_time": "2021-10-02T22:52:22.659733Z"
    }
   },
   "outputs": [],
   "source": [
    "#TODO"
   ]
  },
  {
   "cell_type": "markdown",
   "metadata": {},
   "source": [
    "Run the cell below to check your work! Not all questions will have tests, but be sure to run all tests we include to make sure that you're on the right track."
   ]
  },
  {
   "cell_type": "code",
   "execution_count": 4,
   "metadata": {
    "ExecuteTime": {
     "end_time": "2021-10-02T22:52:06.118386Z",
     "start_time": "2021-10-02T22:52:06.089914Z"
    }
   },
   "outputs": [
    {
     "ename": "NameError",
     "evalue": "name 'ans' is not defined",
     "output_type": "error",
     "traceback": [
      "\u001b[0;31m---------------------------------------------------------------------------\u001b[0m",
      "\u001b[0;31mNameError\u001b[0m                                 Traceback (most recent call last)",
      "\u001b[0;32m<ipython-input-4-399e6cd3b61c>\u001b[0m in \u001b[0;36m<module>\u001b[0;34m\u001b[0m\n\u001b[0;32m----> 1\u001b[0;31m \u001b[0mtests\u001b[0m\u001b[0;34m.\u001b[0m\u001b[0mrun\u001b[0m\u001b[0;34m(\u001b[0m\u001b[0;34m'test_1'\u001b[0m\u001b[0;34m,\u001b[0m \u001b[0mans\u001b[0m\u001b[0;34m)\u001b[0m\u001b[0;34m\u001b[0m\u001b[0;34m\u001b[0m\u001b[0m\n\u001b[0m",
      "\u001b[0;31mNameError\u001b[0m: name 'ans' is not defined"
     ]
    }
   ],
   "source": [
    "tests.run('test_1', ans)"
   ]
  },
  {
   "cell_type": "markdown",
   "metadata": {
    "ExecuteTime": {
     "end_time": "2020-06-14T00:27:13.433777Z",
     "start_time": "2020-06-14T00:27:13.426965Z"
    }
   },
   "source": [
    "## Question 2 (15 pts)\n",
    "**(2a)** Find `1 mod 2`, `2 mod 2`, and `3 mod 2`; and print their values to the screen."
   ]
  },
  {
   "cell_type": "code",
   "execution_count": null,
   "metadata": {
    "ExecuteTime": {
     "end_time": "2021-10-02T22:52:13.286140Z",
     "start_time": "2021-10-02T22:52:13.249314Z"
    },
    "scrolled": true
   },
   "outputs": [],
   "source": [
    "#TODO"
   ]
  },
  {
   "cell_type": "markdown",
   "metadata": {},
   "source": [
    "**(2b)** What pattern do you notice?"
   ]
  },
  {
   "cell_type": "markdown",
   "metadata": {},
   "source": [
    "Type your answer HERE"
   ]
  },
  {
   "cell_type": "markdown",
   "metadata": {},
   "source": [
    "**(2c)** Now print the value of `13 mod 5`."
   ]
  },
  {
   "cell_type": "code",
   "execution_count": null,
   "metadata": {
    "ExecuteTime": {
     "end_time": "2021-10-02T22:52:17.262515Z",
     "start_time": "2021-10-02T22:52:17.210664Z"
    }
   },
   "outputs": [],
   "source": [
    "#TODO"
   ]
  },
  {
   "cell_type": "markdown",
   "metadata": {},
   "source": [
    "## Question 3: Reviewing Data Types (15 pts)\n",
    "\n",
    "The \"type\" of a variable is the type of data that the variable can \"contain.\" You can find the type of a variable or piece of data with the `type` function. Let's explore some common data types!"
   ]
  },
  {
   "cell_type": "markdown",
   "metadata": {},
   "source": [
    "### Integers and Floats\n",
    "\n",
    "`int`s contain exactly what you expect: the integers $-\\infty, \\dots, -1, 0, 1, \\dots, \\infty$. Unlike some other languages, <a href=\"https://docs.python.org/3.1/whatsnew/3.0.html#integers\">integers in Python 3</a> are unbounded, that is, there is no theoretical maximum integer that Python can store. `float`s, short for \"floating point,\" represents a real number with a decimal value. We have been interacting with integers and floats since the start of the module, so we're already familiar with the basic operations between integers and floats!"
   ]
  },
  {
   "cell_type": "markdown",
   "metadata": {},
   "source": [
    "**(3a)** Print the type of `1` and `1.0`. Are they what you expect?"
   ]
  },
  {
   "cell_type": "code",
   "execution_count": null,
   "metadata": {
    "ExecuteTime": {
     "end_time": "2021-07-17T20:15:21.070824Z",
     "start_time": "2021-07-17T20:15:21.022333Z"
    }
   },
   "outputs": [],
   "source": [
    "#TODO"
   ]
  },
  {
   "cell_type": "markdown",
   "metadata": {},
   "source": [
    "Note: floats do not have infinite precision. Thus, arithmetic with floats can result in some approximation errors."
   ]
  },
  {
   "cell_type": "code",
   "execution_count": null,
   "metadata": {
    "ExecuteTime": {
     "end_time": "2021-07-17T20:15:22.348669Z",
     "start_time": "2021-07-17T20:15:22.315600Z"
    }
   },
   "outputs": [],
   "source": [
    "print(0.1 + 0.2)"
   ]
  },
  {
   "cell_type": "markdown",
   "metadata": {},
   "source": [
    "### Strings\n",
    "Simply put, strings are lists of characters. `'hello'`, `'the blue lake'`, and `'15 pounds'` are all strings. Just like we can add integers and floats, we can concatenate strings using the addition operator. For example, let's try writing out `ULAB Physics and Astronomy` by adding each word together:"
   ]
  },
  {
   "cell_type": "code",
   "execution_count": null,
   "metadata": {
    "ExecuteTime": {
     "end_time": "2021-07-17T20:15:25.161496Z",
     "start_time": "2021-07-17T20:15:25.132831Z"
    }
   },
   "outputs": [],
   "source": [
    "sum = \"ULAB\" + \"Physics\" + \"and\" + \"Astronomy\"\n",
    "print(sum)"
   ]
  },
  {
   "cell_type": "markdown",
   "metadata": {},
   "source": [
    "**(3b)** Fix the output by *concatenating* spaces `\" \"` in between the words."
   ]
  },
  {
   "cell_type": "code",
   "execution_count": null,
   "metadata": {
    "ExecuteTime": {
     "end_time": "2021-10-02T22:52:49.167698Z",
     "start_time": "2021-10-02T22:52:49.131223Z"
    }
   },
   "outputs": [],
   "source": [
    "#TODO"
   ]
  },
  {
   "cell_type": "markdown",
   "metadata": {},
   "source": [
    "### Lists \n",
    "\n",
    "Lists are an ordered collection of items. Examples of lists include `[7,15,3,30]` or `['Canada','Belgium','Brazil','Singapore']`. <br>\n",
    "<br>\n",
    "Arrays are **zero-indexed**, meaning that the *first* item is considered to be at position `0`. Subsequently, the second item is at position `1`, and so on."
   ]
  },
  {
   "cell_type": "markdown",
   "metadata": {},
   "source": [
    "**(3c)** Run the cell below, which executes the following lines of code:\n",
    "1. `a` is assigned the value `[1,2,3]`</li>\n",
    "2. `b` is assigned the value `a`\n",
    "3. The first element of the `b` is to the the value 5\n",
    "\n",
    "What is the final value of `a`? Should it be `[1,2,3]` or `[5,2,3]`? Justify your answer below (credit will be given for justification, not whether your guess if correct)"
   ]
  },
  {
   "cell_type": "code",
   "execution_count": null,
   "metadata": {
    "ExecuteTime": {
     "end_time": "2021-07-17T20:15:34.670725Z",
     "start_time": "2021-07-17T20:15:34.640749Z"
    }
   },
   "outputs": [],
   "source": [
    "#TODO"
   ]
  },
  {
   "cell_type": "markdown",
   "metadata": {},
   "source": [
    "**My guess:** your answer HERE"
   ]
  },
  {
   "cell_type": "code",
   "execution_count": null,
   "metadata": {
    "ExecuteTime": {
     "end_time": "2021-07-17T20:15:40.527245Z",
     "start_time": "2021-07-17T20:15:40.493120Z"
    }
   },
   "outputs": [],
   "source": [
    "print(a)"
   ]
  },
  {
   "cell_type": "markdown",
   "metadata": {},
   "source": [
    "The value of `a` changed, even when the code only altered `b`. This occurs because the line `b=a` causes the variable `b` to point to the same location in memory the array `a`. In other words, both `a` and `b` are \"pointing\" to the **same object**: `[1,2,3]`. Thus, when `b[0]` is set to `5`, the array changes to `[5,2,3]`, and that's what both `a` and `b` now display as their value.\n",
    "\n",
    "<img src=\"files/list.png\" style='height:150px'>\n",
    "\n",
    "This is a very subtle result of what is known as \"pass by reference.\" We won't worry too much about this moving forward, but it's good to keep in mind!"
   ]
  },
  {
   "cell_type": "markdown",
   "metadata": {},
   "source": [
    "## Question 4 (15 pts)\n",
    "\n",
    "**(4a)** Print out the second and fourth items in `points` by referring to their index."
   ]
  },
  {
   "cell_type": "code",
   "execution_count": null,
   "metadata": {
    "ExecuteTime": {
     "end_time": "2021-10-09T23:36:35.225340Z",
     "start_time": "2021-10-09T23:36:35.218119Z"
    }
   },
   "outputs": [],
   "source": [
    "points = [46,50,47,39,41,89,90,12]\n",
    "#TODO"
   ]
  },
  {
   "cell_type": "markdown",
   "metadata": {},
   "source": [
    "**(4b)** Using array slicing, print every 3rd element (i.e. `[46, 39, 90]`)"
   ]
  },
  {
   "cell_type": "code",
   "execution_count": null,
   "metadata": {
    "ExecuteTime": {
     "end_time": "2021-10-02T22:53:04.500713Z",
     "start_time": "2021-10-02T22:53:04.473135Z"
    }
   },
   "outputs": [],
   "source": [
    "#TODO"
   ]
  },
  {
   "cell_type": "markdown",
   "metadata": {},
   "source": [
    "**(4c)** Nesting lists: a list can store any object, even another list! Replace the second element of `points` with the list `[3,1,4]`. Print `points` to the screen."
   ]
  },
  {
   "cell_type": "code",
   "execution_count": null,
   "metadata": {
    "ExecuteTime": {
     "end_time": "2021-10-02T22:53:07.547738Z",
     "start_time": "2021-10-02T22:53:07.517162Z"
    }
   },
   "outputs": [],
   "source": [
    "#TODO"
   ]
  },
  {
   "cell_type": "markdown",
   "metadata": {},
   "source": [
    "## Question 5: A Taylor Approximation! (15 pts)"
   ]
  },
  {
   "cell_type": "markdown",
   "metadata": {},
   "source": [
    "We can approximate a function with its Taylor expansion (if your not familiar with this concept, don't worry!):\n",
    "\n",
    "\\\\[f(a) = \\sum_{n=0}^{\\infty} \\frac{f^{(n)}(a)}{n!}(x-a)^n\\\\]\n",
    "\n",
    "Let's examine the Taylor expansion of sine centered around $x=0$ written out to the fifth order.\n",
    "\n",
    "\\\\[\\sin(x) \\approx x - \\frac{x^3}{3!} + \\frac{x^5}{5!}\\\\]"
   ]
  },
  {
   "cell_type": "markdown",
   "metadata": {},
   "source": [
    "**(5a)** What is the value of $\\sin(0.5)$ based on our approximation?"
   ]
  },
  {
   "cell_type": "code",
   "execution_count": null,
   "metadata": {
    "ExecuteTime": {
     "end_time": "2021-10-02T22:53:12.337724Z",
     "start_time": "2021-10-02T22:53:12.303023Z"
    }
   },
   "outputs": [],
   "source": [
    "# three_fact = ...\n",
    "# five_fact = ..."
   ]
  },
  {
   "cell_type": "code",
   "execution_count": null,
   "metadata": {
    "ExecuteTime": {
     "end_time": "2021-10-02T22:53:13.881171Z",
     "start_time": "2021-10-02T22:53:13.711351Z"
    }
   },
   "outputs": [],
   "source": [
    "tests.run('test_5a', val)"
   ]
  },
  {
   "cell_type": "markdown",
   "metadata": {},
   "source": [
    "On its own, Python has a good range of math tools that we can play around with, but it falls short in some areas. We can **import** Python's `math` library into this Notebook to bring in many useful functions. For things like calculating powers, logarithms, and handling trig functions, importing `math` is a great help. To use the package, we add the prefix `math.` before the operation. For instance, `math.exp(n)` gives us $e^n$.\n",
    "\n",
    "**(5b)** Determine the value of $\\sin(0.5)$ using the `math` module?"
   ]
  },
  {
   "cell_type": "code",
   "execution_count": null,
   "metadata": {
    "ExecuteTime": {
     "end_time": "2021-07-17T20:16:22.698266Z",
     "start_time": "2021-07-17T20:16:22.671466Z"
    }
   },
   "outputs": [],
   "source": [
    "import math\n",
    "# actual = ...\n",
    "# print(actual)"
   ]
  },
  {
   "cell_type": "code",
   "execution_count": null,
   "metadata": {
    "ExecuteTime": {
     "end_time": "2021-07-17T20:16:23.524432Z",
     "start_time": "2021-07-17T20:16:23.495669Z"
    }
   },
   "outputs": [],
   "source": [
    "tests.run('test_5b', actual)"
   ]
  },
  {
   "cell_type": "markdown",
   "metadata": {},
   "source": [
    "**(5c)** Calculate the percent error for your answer in part a."
   ]
  },
  {
   "cell_type": "code",
   "execution_count": null,
   "metadata": {
    "ExecuteTime": {
     "end_time": "2021-10-02T22:53:24.696432Z",
     "start_time": "2021-10-02T22:53:24.653922Z"
    }
   },
   "outputs": [],
   "source": [
    "# err = ...\n",
    "# print(err)"
   ]
  },
  {
   "cell_type": "markdown",
   "metadata": {},
   "source": [
    "## Submission\n",
    "\n",
    "Check to make sure that you have answered all questions. Run all the cells so that all output is visible. Finally, export this notebook as a PDF (File/Download As/PDF via LaTeX (.pdf)) and submit to bCourses."
   ]
  },
  {
   "cell_type": "markdown",
   "metadata": {},
   "source": [
    "<b>References:</b> Inspired by <i>Computational and Inferential Thinking</i> and the Data 8 course material: Professors Ani Adhikari, John DeNero, and the Data 8 staff. Edited and complied by the ULAB staff.\n",
    "\n",
    "Last Updated: June 2021"
   ]
  }
 ],
 "metadata": {
  "kernelspec": {
   "display_name": "Python 3",
   "language": "python",
   "name": "python3"
  },
  "language_info": {
   "codemirror_mode": {
    "name": "ipython",
    "version": 3
   },
   "file_extension": ".py",
   "mimetype": "text/x-python",
   "name": "python",
   "nbconvert_exporter": "python",
   "pygments_lexer": "ipython3",
   "version": "3.8.8"
  }
 },
 "nbformat": 4,
 "nbformat_minor": 2
}
